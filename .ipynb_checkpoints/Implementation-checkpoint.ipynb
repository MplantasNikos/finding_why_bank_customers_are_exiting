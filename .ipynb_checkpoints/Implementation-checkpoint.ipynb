{
 "cells": [
  {
   "cell_type": "markdown",
   "id": "a58fc334",
   "metadata": {},
   "source": [
    "# import the libraries"
   ]
  },
  {
   "cell_type": "code",
   "execution_count": 1,
   "id": "141f8a6b",
   "metadata": {},
   "outputs": [],
   "source": [
    "import pandas as pd\n",
    "import numpy as np\n"
   ]
  },
  {
   "cell_type": "code",
   "execution_count": 2,
   "id": "f0f94625",
   "metadata": {},
   "outputs": [],
   "source": [
    "#no scientific notation\n",
    "pd.set_option('display.float_format', lambda x: '%.3f' % x)"
   ]
  },
  {
   "cell_type": "markdown",
   "id": "99a52386",
   "metadata": {},
   "source": [
    "# General info and some preproccesing of our data "
   ]
  },
  {
   "cell_type": "code",
   "execution_count": 3,
   "id": "3b80183c",
   "metadata": {},
   "outputs": [],
   "source": [
    "data = pd.read_csv('Churn Modeling.csv')\n",
    "data.columns = [i.lower().replace(' ','_') for i in data.columns]"
   ]
  },
  {
   "cell_type": "code",
   "execution_count": 4,
   "id": "1607f986",
   "metadata": {},
   "outputs": [
    {
     "data": {
      "text/html": [
       "<div>\n",
       "<style scoped>\n",
       "    .dataframe tbody tr th:only-of-type {\n",
       "        vertical-align: middle;\n",
       "    }\n",
       "\n",
       "    .dataframe tbody tr th {\n",
       "        vertical-align: top;\n",
       "    }\n",
       "\n",
       "    .dataframe thead th {\n",
       "        text-align: right;\n",
       "    }\n",
       "</style>\n",
       "<table border=\"1\" class=\"dataframe\">\n",
       "  <thead>\n",
       "    <tr style=\"text-align: right;\">\n",
       "      <th></th>\n",
       "      <th>rownumber</th>\n",
       "      <th>customerid</th>\n",
       "      <th>surname</th>\n",
       "      <th>creditscore</th>\n",
       "      <th>geography</th>\n",
       "      <th>gender</th>\n",
       "      <th>age</th>\n",
       "      <th>tenure</th>\n",
       "      <th>balance</th>\n",
       "      <th>numofproducts</th>\n",
       "      <th>hascrcard</th>\n",
       "      <th>isactivemember</th>\n",
       "      <th>estimatedsalary</th>\n",
       "      <th>exited</th>\n",
       "    </tr>\n",
       "  </thead>\n",
       "  <tbody>\n",
       "    <tr>\n",
       "      <th>0</th>\n",
       "      <td>1</td>\n",
       "      <td>15634602</td>\n",
       "      <td>Hargrave</td>\n",
       "      <td>619</td>\n",
       "      <td>France</td>\n",
       "      <td>Female</td>\n",
       "      <td>42</td>\n",
       "      <td>2</td>\n",
       "      <td>0.000</td>\n",
       "      <td>1</td>\n",
       "      <td>1</td>\n",
       "      <td>1</td>\n",
       "      <td>101348.880</td>\n",
       "      <td>1</td>\n",
       "    </tr>\n",
       "    <tr>\n",
       "      <th>1</th>\n",
       "      <td>2</td>\n",
       "      <td>15647311</td>\n",
       "      <td>Hill</td>\n",
       "      <td>608</td>\n",
       "      <td>Spain</td>\n",
       "      <td>Female</td>\n",
       "      <td>41</td>\n",
       "      <td>1</td>\n",
       "      <td>83807.860</td>\n",
       "      <td>1</td>\n",
       "      <td>0</td>\n",
       "      <td>1</td>\n",
       "      <td>112542.580</td>\n",
       "      <td>0</td>\n",
       "    </tr>\n",
       "    <tr>\n",
       "      <th>2</th>\n",
       "      <td>3</td>\n",
       "      <td>15619304</td>\n",
       "      <td>Onio</td>\n",
       "      <td>502</td>\n",
       "      <td>France</td>\n",
       "      <td>Female</td>\n",
       "      <td>42</td>\n",
       "      <td>8</td>\n",
       "      <td>159660.800</td>\n",
       "      <td>3</td>\n",
       "      <td>1</td>\n",
       "      <td>0</td>\n",
       "      <td>113931.570</td>\n",
       "      <td>1</td>\n",
       "    </tr>\n",
       "    <tr>\n",
       "      <th>3</th>\n",
       "      <td>4</td>\n",
       "      <td>15701354</td>\n",
       "      <td>Boni</td>\n",
       "      <td>699</td>\n",
       "      <td>France</td>\n",
       "      <td>Female</td>\n",
       "      <td>39</td>\n",
       "      <td>1</td>\n",
       "      <td>0.000</td>\n",
       "      <td>2</td>\n",
       "      <td>0</td>\n",
       "      <td>0</td>\n",
       "      <td>93826.630</td>\n",
       "      <td>0</td>\n",
       "    </tr>\n",
       "    <tr>\n",
       "      <th>4</th>\n",
       "      <td>5</td>\n",
       "      <td>15737888</td>\n",
       "      <td>Mitchell</td>\n",
       "      <td>850</td>\n",
       "      <td>Spain</td>\n",
       "      <td>Female</td>\n",
       "      <td>43</td>\n",
       "      <td>2</td>\n",
       "      <td>125510.820</td>\n",
       "      <td>1</td>\n",
       "      <td>1</td>\n",
       "      <td>1</td>\n",
       "      <td>79084.100</td>\n",
       "      <td>0</td>\n",
       "    </tr>\n",
       "    <tr>\n",
       "      <th>5</th>\n",
       "      <td>6</td>\n",
       "      <td>15574012</td>\n",
       "      <td>Chu</td>\n",
       "      <td>645</td>\n",
       "      <td>Spain</td>\n",
       "      <td>Male</td>\n",
       "      <td>44</td>\n",
       "      <td>8</td>\n",
       "      <td>113755.780</td>\n",
       "      <td>2</td>\n",
       "      <td>1</td>\n",
       "      <td>0</td>\n",
       "      <td>149756.710</td>\n",
       "      <td>1</td>\n",
       "    </tr>\n",
       "    <tr>\n",
       "      <th>6</th>\n",
       "      <td>7</td>\n",
       "      <td>15592531</td>\n",
       "      <td>Bartlett</td>\n",
       "      <td>822</td>\n",
       "      <td>France</td>\n",
       "      <td>Male</td>\n",
       "      <td>50</td>\n",
       "      <td>7</td>\n",
       "      <td>0.000</td>\n",
       "      <td>2</td>\n",
       "      <td>1</td>\n",
       "      <td>1</td>\n",
       "      <td>10062.800</td>\n",
       "      <td>0</td>\n",
       "    </tr>\n",
       "    <tr>\n",
       "      <th>7</th>\n",
       "      <td>8</td>\n",
       "      <td>15656148</td>\n",
       "      <td>Obinna</td>\n",
       "      <td>376</td>\n",
       "      <td>Germany</td>\n",
       "      <td>Female</td>\n",
       "      <td>29</td>\n",
       "      <td>4</td>\n",
       "      <td>115046.740</td>\n",
       "      <td>4</td>\n",
       "      <td>1</td>\n",
       "      <td>0</td>\n",
       "      <td>119346.880</td>\n",
       "      <td>1</td>\n",
       "    </tr>\n",
       "    <tr>\n",
       "      <th>8</th>\n",
       "      <td>9</td>\n",
       "      <td>15792365</td>\n",
       "      <td>He</td>\n",
       "      <td>501</td>\n",
       "      <td>France</td>\n",
       "      <td>Male</td>\n",
       "      <td>44</td>\n",
       "      <td>4</td>\n",
       "      <td>142051.070</td>\n",
       "      <td>2</td>\n",
       "      <td>0</td>\n",
       "      <td>1</td>\n",
       "      <td>74940.500</td>\n",
       "      <td>0</td>\n",
       "    </tr>\n",
       "    <tr>\n",
       "      <th>9</th>\n",
       "      <td>10</td>\n",
       "      <td>15592389</td>\n",
       "      <td>H?</td>\n",
       "      <td>684</td>\n",
       "      <td>France</td>\n",
       "      <td>Male</td>\n",
       "      <td>27</td>\n",
       "      <td>2</td>\n",
       "      <td>134603.880</td>\n",
       "      <td>1</td>\n",
       "      <td>1</td>\n",
       "      <td>1</td>\n",
       "      <td>71725.730</td>\n",
       "      <td>0</td>\n",
       "    </tr>\n",
       "  </tbody>\n",
       "</table>\n",
       "</div>"
      ],
      "text/plain": [
       "   rownumber  customerid   surname  creditscore geography  gender  age  \\\n",
       "0          1    15634602  Hargrave          619    France  Female   42   \n",
       "1          2    15647311      Hill          608     Spain  Female   41   \n",
       "2          3    15619304      Onio          502    France  Female   42   \n",
       "3          4    15701354      Boni          699    France  Female   39   \n",
       "4          5    15737888  Mitchell          850     Spain  Female   43   \n",
       "5          6    15574012       Chu          645     Spain    Male   44   \n",
       "6          7    15592531  Bartlett          822    France    Male   50   \n",
       "7          8    15656148    Obinna          376   Germany  Female   29   \n",
       "8          9    15792365        He          501    France    Male   44   \n",
       "9         10    15592389        H?          684    France    Male   27   \n",
       "\n",
       "   tenure    balance  numofproducts  hascrcard  isactivemember  \\\n",
       "0       2      0.000              1          1               1   \n",
       "1       1  83807.860              1          0               1   \n",
       "2       8 159660.800              3          1               0   \n",
       "3       1      0.000              2          0               0   \n",
       "4       2 125510.820              1          1               1   \n",
       "5       8 113755.780              2          1               0   \n",
       "6       7      0.000              2          1               1   \n",
       "7       4 115046.740              4          1               0   \n",
       "8       4 142051.070              2          0               1   \n",
       "9       2 134603.880              1          1               1   \n",
       "\n",
       "   estimatedsalary  exited  \n",
       "0       101348.880       1  \n",
       "1       112542.580       0  \n",
       "2       113931.570       1  \n",
       "3        93826.630       0  \n",
       "4        79084.100       0  \n",
       "5       149756.710       1  \n",
       "6        10062.800       0  \n",
       "7       119346.880       1  \n",
       "8        74940.500       0  \n",
       "9        71725.730       0  "
      ]
     },
     "execution_count": 4,
     "metadata": {},
     "output_type": "execute_result"
    }
   ],
   "source": [
    "data.head(10)"
   ]
  },
  {
   "cell_type": "code",
   "execution_count": 5,
   "id": "68c964fa",
   "metadata": {},
   "outputs": [
    {
     "name": "stdout",
     "output_type": "stream",
     "text": [
      "<class 'pandas.core.frame.DataFrame'>\n",
      "RangeIndex: 10000 entries, 0 to 9999\n",
      "Data columns (total 14 columns):\n",
      " #   Column           Non-Null Count  Dtype  \n",
      "---  ------           --------------  -----  \n",
      " 0   rownumber        10000 non-null  int64  \n",
      " 1   customerid       10000 non-null  int64  \n",
      " 2   surname          10000 non-null  object \n",
      " 3   creditscore      10000 non-null  int64  \n",
      " 4   geography        10000 non-null  object \n",
      " 5   gender           10000 non-null  object \n",
      " 6   age              10000 non-null  int64  \n",
      " 7   tenure           10000 non-null  int64  \n",
      " 8   balance          10000 non-null  float64\n",
      " 9   numofproducts    10000 non-null  int64  \n",
      " 10  hascrcard        10000 non-null  int64  \n",
      " 11  isactivemember   10000 non-null  int64  \n",
      " 12  estimatedsalary  10000 non-null  float64\n",
      " 13  exited           10000 non-null  int64  \n",
      "dtypes: float64(2), int64(9), object(3)\n",
      "memory usage: 1.1+ MB\n"
     ]
    }
   ],
   "source": [
    "data.info()"
   ]
  },
  {
   "cell_type": "code",
   "execution_count": 6,
   "id": "6efb1121",
   "metadata": {},
   "outputs": [
    {
     "data": {
      "text/html": [
       "<div>\n",
       "<style scoped>\n",
       "    .dataframe tbody tr th:only-of-type {\n",
       "        vertical-align: middle;\n",
       "    }\n",
       "\n",
       "    .dataframe tbody tr th {\n",
       "        vertical-align: top;\n",
       "    }\n",
       "\n",
       "    .dataframe thead th {\n",
       "        text-align: right;\n",
       "    }\n",
       "</style>\n",
       "<table border=\"1\" class=\"dataframe\">\n",
       "  <thead>\n",
       "    <tr style=\"text-align: right;\">\n",
       "      <th></th>\n",
       "      <th>rownumber</th>\n",
       "      <th>customerid</th>\n",
       "      <th>creditscore</th>\n",
       "      <th>age</th>\n",
       "      <th>tenure</th>\n",
       "      <th>balance</th>\n",
       "      <th>numofproducts</th>\n",
       "      <th>hascrcard</th>\n",
       "      <th>isactivemember</th>\n",
       "      <th>estimatedsalary</th>\n",
       "      <th>exited</th>\n",
       "    </tr>\n",
       "  </thead>\n",
       "  <tbody>\n",
       "    <tr>\n",
       "      <th>count</th>\n",
       "      <td>10000.000</td>\n",
       "      <td>10000.000</td>\n",
       "      <td>10000.000</td>\n",
       "      <td>10000.000</td>\n",
       "      <td>10000.000</td>\n",
       "      <td>10000.000</td>\n",
       "      <td>10000.000</td>\n",
       "      <td>10000.000</td>\n",
       "      <td>10000.000</td>\n",
       "      <td>10000.000</td>\n",
       "      <td>10000.000</td>\n",
       "    </tr>\n",
       "    <tr>\n",
       "      <th>mean</th>\n",
       "      <td>5000.500</td>\n",
       "      <td>15690940.569</td>\n",
       "      <td>650.529</td>\n",
       "      <td>38.922</td>\n",
       "      <td>5.013</td>\n",
       "      <td>76485.889</td>\n",
       "      <td>1.530</td>\n",
       "      <td>0.706</td>\n",
       "      <td>0.515</td>\n",
       "      <td>100090.240</td>\n",
       "      <td>0.204</td>\n",
       "    </tr>\n",
       "    <tr>\n",
       "      <th>std</th>\n",
       "      <td>2886.896</td>\n",
       "      <td>71936.186</td>\n",
       "      <td>96.653</td>\n",
       "      <td>10.488</td>\n",
       "      <td>2.892</td>\n",
       "      <td>62397.405</td>\n",
       "      <td>0.582</td>\n",
       "      <td>0.456</td>\n",
       "      <td>0.500</td>\n",
       "      <td>57510.493</td>\n",
       "      <td>0.403</td>\n",
       "    </tr>\n",
       "    <tr>\n",
       "      <th>min</th>\n",
       "      <td>1.000</td>\n",
       "      <td>15565701.000</td>\n",
       "      <td>350.000</td>\n",
       "      <td>18.000</td>\n",
       "      <td>0.000</td>\n",
       "      <td>0.000</td>\n",
       "      <td>1.000</td>\n",
       "      <td>0.000</td>\n",
       "      <td>0.000</td>\n",
       "      <td>11.580</td>\n",
       "      <td>0.000</td>\n",
       "    </tr>\n",
       "    <tr>\n",
       "      <th>25%</th>\n",
       "      <td>2500.750</td>\n",
       "      <td>15628528.250</td>\n",
       "      <td>584.000</td>\n",
       "      <td>32.000</td>\n",
       "      <td>3.000</td>\n",
       "      <td>0.000</td>\n",
       "      <td>1.000</td>\n",
       "      <td>0.000</td>\n",
       "      <td>0.000</td>\n",
       "      <td>51002.110</td>\n",
       "      <td>0.000</td>\n",
       "    </tr>\n",
       "    <tr>\n",
       "      <th>50%</th>\n",
       "      <td>5000.500</td>\n",
       "      <td>15690738.000</td>\n",
       "      <td>652.000</td>\n",
       "      <td>37.000</td>\n",
       "      <td>5.000</td>\n",
       "      <td>97198.540</td>\n",
       "      <td>1.000</td>\n",
       "      <td>1.000</td>\n",
       "      <td>1.000</td>\n",
       "      <td>100193.915</td>\n",
       "      <td>0.000</td>\n",
       "    </tr>\n",
       "    <tr>\n",
       "      <th>75%</th>\n",
       "      <td>7500.250</td>\n",
       "      <td>15753233.750</td>\n",
       "      <td>718.000</td>\n",
       "      <td>44.000</td>\n",
       "      <td>7.000</td>\n",
       "      <td>127644.240</td>\n",
       "      <td>2.000</td>\n",
       "      <td>1.000</td>\n",
       "      <td>1.000</td>\n",
       "      <td>149388.247</td>\n",
       "      <td>0.000</td>\n",
       "    </tr>\n",
       "    <tr>\n",
       "      <th>max</th>\n",
       "      <td>10000.000</td>\n",
       "      <td>15815690.000</td>\n",
       "      <td>850.000</td>\n",
       "      <td>92.000</td>\n",
       "      <td>10.000</td>\n",
       "      <td>250898.090</td>\n",
       "      <td>4.000</td>\n",
       "      <td>1.000</td>\n",
       "      <td>1.000</td>\n",
       "      <td>199992.480</td>\n",
       "      <td>1.000</td>\n",
       "    </tr>\n",
       "  </tbody>\n",
       "</table>\n",
       "</div>"
      ],
      "text/plain": [
       "       rownumber   customerid  creditscore       age    tenure    balance  \\\n",
       "count  10000.000    10000.000    10000.000 10000.000 10000.000  10000.000   \n",
       "mean    5000.500 15690940.569      650.529    38.922     5.013  76485.889   \n",
       "std     2886.896    71936.186       96.653    10.488     2.892  62397.405   \n",
       "min        1.000 15565701.000      350.000    18.000     0.000      0.000   \n",
       "25%     2500.750 15628528.250      584.000    32.000     3.000      0.000   \n",
       "50%     5000.500 15690738.000      652.000    37.000     5.000  97198.540   \n",
       "75%     7500.250 15753233.750      718.000    44.000     7.000 127644.240   \n",
       "max    10000.000 15815690.000      850.000    92.000    10.000 250898.090   \n",
       "\n",
       "       numofproducts  hascrcard  isactivemember  estimatedsalary    exited  \n",
       "count      10000.000  10000.000       10000.000        10000.000 10000.000  \n",
       "mean           1.530      0.706           0.515       100090.240     0.204  \n",
       "std            0.582      0.456           0.500        57510.493     0.403  \n",
       "min            1.000      0.000           0.000           11.580     0.000  \n",
       "25%            1.000      0.000           0.000        51002.110     0.000  \n",
       "50%            1.000      1.000           1.000       100193.915     0.000  \n",
       "75%            2.000      1.000           1.000       149388.247     0.000  \n",
       "max            4.000      1.000           1.000       199992.480     1.000  "
      ]
     },
     "execution_count": 6,
     "metadata": {},
     "output_type": "execute_result"
    }
   ],
   "source": [
    "data.describe()"
   ]
  },
  {
   "cell_type": "code",
   "execution_count": 7,
   "id": "e6de1fb7",
   "metadata": {},
   "outputs": [
    {
     "data": {
      "text/plain": [
       "rownumber          0\n",
       "customerid         0\n",
       "surname            0\n",
       "creditscore        0\n",
       "geography          0\n",
       "gender             0\n",
       "age                0\n",
       "tenure             0\n",
       "balance            0\n",
       "numofproducts      0\n",
       "hascrcard          0\n",
       "isactivemember     0\n",
       "estimatedsalary    0\n",
       "exited             0\n",
       "dtype: int64"
      ]
     },
     "execution_count": 7,
     "metadata": {},
     "output_type": "execute_result"
    }
   ],
   "source": [
    "data.isnull().sum()"
   ]
  },
  {
   "cell_type": "code",
   "execution_count": null,
   "id": "d38884f7",
   "metadata": {},
   "outputs": [],
   "source": []
  },
  {
   "cell_type": "code",
   "execution_count": 8,
   "id": "a20f9da8",
   "metadata": {},
   "outputs": [],
   "source": [
    "# we dont need surename and row id so we will drop them\n",
    "\n",
    "data.drop(columns=['rownumber','surname','customerid'],inplace=True)"
   ]
  },
  {
   "cell_type": "code",
   "execution_count": 9,
   "id": "1918a45c",
   "metadata": {},
   "outputs": [
    {
     "data": {
      "text/plain": [
       "(10000, 11)"
      ]
     },
     "execution_count": 9,
     "metadata": {},
     "output_type": "execute_result"
    }
   ],
   "source": [
    "data.shape"
   ]
  },
  {
   "cell_type": "code",
   "execution_count": null,
   "id": "54d8881f",
   "metadata": {},
   "outputs": [],
   "source": []
  },
  {
   "cell_type": "code",
   "execution_count": 10,
   "id": "fba7a894",
   "metadata": {},
   "outputs": [
    {
     "data": {
      "text/plain": [
       "exited\n",
       "0    7963\n",
       "1    2037\n",
       "Name: count, dtype: int64"
      ]
     },
     "execution_count": 10,
     "metadata": {},
     "output_type": "execute_result"
    }
   ],
   "source": [
    "# check if the numbers of classes are even \n",
    "data.exited.value_counts()"
   ]
  },
  {
   "cell_type": "markdown",
   "id": "d263aeab",
   "metadata": {},
   "source": [
    "### they are not but those are the data he have so we will work with them "
   ]
  },
  {
   "cell_type": "code",
   "execution_count": null,
   "id": "4616d5c4",
   "metadata": {},
   "outputs": [],
   "source": []
  },
  {
   "cell_type": "markdown",
   "id": "19e63d35",
   "metadata": {},
   "source": [
    "## Now we will try to find why are the customers exiting "
   ]
  },
  {
   "cell_type": "markdown",
   "id": "ac6ff9a6",
   "metadata": {},
   "source": [
    "# First we will try to see visualy  "
   ]
  },
  {
   "cell_type": "code",
   "execution_count": 11,
   "id": "a8c74284",
   "metadata": {},
   "outputs": [],
   "source": [
    "import matplotlib.pyplot as plt\n",
    "import seaborn as sns"
   ]
  },
  {
   "cell_type": "code",
   "execution_count": 12,
   "id": "4f1681ff",
   "metadata": {},
   "outputs": [
    {
     "data": {
      "image/png": "[encoded data removed]",
      "text/plain": [
       "<Figure size 1000x1000 with 10 Axes>"
      ]
     },
     "metadata": {},
     "output_type": "display_data"
    }
   ],
   "source": [
    "#plot the distributions\n",
    "columns = data.drop('exited',axis=1).columns\n",
    "cols = [i for i in columns]\n",
    "\n",
    "plt.figure(figsize=(10,10))\n",
    "for column in cols :\n",
    "    plt.subplot(3,4,cols.index(column)+1)\n",
    "    sns.histplot(data[column],color='skyblue')\n",
    "    plt.title(f'distribution of {column} ',fontsize=9)\n",
    "plt.tight_layout()\n",
    "plt.show()\n",
    "    \n",
    "    "
   ]
  },
  {
   "cell_type": "code",
   "execution_count": 13,
   "id": "c09fa7e6",
   "metadata": {},
   "outputs": [
    {
     "data": {
      "image/png": "[encoded data removed]",
      "text/plain": [
       "<Figure size 1000x1000 with 10 Axes>"
      ]
     },
     "metadata": {},
     "output_type": "display_data"
    }
   ],
   "source": [
    "# now lets plot the distributions for each class\n",
    "\n",
    "plt.figure(figsize=(10,10))\n",
    "for column in cols:\n",
    "    plt.subplot(3,4,cols.index(column)+1)\n",
    "    sns.histplot(data.loc[data['exited'] == 0,column] , label='not exited')\n",
    "    sns.histplot(data.loc[data['exited'] == 1,column] , label='exited')\n",
    "    plt.title (column,fontsize=9)\n",
    "    plt.legend()\n",
    "plt.tight_layout()\n",
    "plt.show()\n",
    "    "
   ]
  },
  {
   "cell_type": "code",
   "execution_count": null,
   "id": "cd28e0d2",
   "metadata": {},
   "outputs": [],
   "source": []
  },
  {
   "cell_type": "markdown",
   "id": "8e7d00ef",
   "metadata": {},
   "source": [
    "### as a first observation we can see that geography, gender and age have an important role in people exiting \n",
    "### we cant say for all variables because some of them are in a large area and the plots cant say much"
   ]
  },
  {
   "cell_type": "code",
   "execution_count": null,
   "id": "e35a1ee7",
   "metadata": {},
   "outputs": [],
   "source": []
  },
  {
   "cell_type": "markdown",
   "id": "f287e288",
   "metadata": {},
   "source": [
    "# Now we will use t_tests to see if  there is a significant diferent between the means for each variable for each class (exited or no)"
   ]
  },
  {
   "cell_type": "markdown",
   "id": "a53b421c",
   "metadata": {},
   "source": [
    "## for numeric variables we will use two sampled t-tests"
   ]
  },
  {
   "cell_type": "code",
   "execution_count": 14,
   "id": "6ee37f21",
   "metadata": {},
   "outputs": [],
   "source": [
    "import scipy.stats as stats"
   ]
  },
  {
   "cell_type": "code",
   "execution_count": 15,
   "id": "0a179668",
   "metadata": {},
   "outputs": [],
   "source": [
    "data_num = data.select_dtypes(include=np.number)"
   ]
  },
  {
   "cell_type": "code",
   "execution_count": 16,
   "id": "6c968236",
   "metadata": {},
   "outputs": [],
   "source": [
    "left = data_num.loc[data_num['exited'] == 1]\n",
    "stayed = data_num.loc[data_num['exited'] == 0]\n"
   ]
  },
  {
   "cell_type": "code",
   "execution_count": 17,
   "id": "8e02e972",
   "metadata": {},
   "outputs": [
    {
     "name": "stdout",
     "output_type": "stream",
     "text": [
      "mean for variable creditscore when exited = 645.3514972999509 and when stayed : 651.8531960316463\n",
      "mean for variable age when exited = 44.8379970544919 and when stayed : 37.40838879819164\n",
      "mean for variable tenure when exited = 4.932744231713304 and when stayed : 5.033278914981791\n",
      "mean for variable balance when exited = 91108.53933726068 and when stayed : 72745.2967788522\n",
      "mean for variable numofproducts when exited = 1.4752086401570939 and when stayed : 1.5442672359663443\n",
      "mean for variable hascrcard when exited = 0.6990672557682867 and when stayed : 0.7071455481602411\n",
      "mean for variable isactivemember when exited = 0.36082474226804123 and when stayed : 0.5545648624890117\n",
      "mean for variable estimatedsalary when exited = 101465.67753068237 and when stayed : 99738.39177194524\n"
     ]
    }
   ],
   "source": [
    "p_values = []\n",
    "awnsers =  []\n",
    "columns = data_num.drop(columns=['exited']).columns\n",
    "columns = [i for i in columns]\n",
    "for column in columns:\n",
    "    mean_left = left[column].mean()\n",
    "    mean_stayed = stayed[column].mean()\n",
    "    print(f'mean for variable {column} when exited = {mean_left} and when stayed : {mean_stayed}')\n",
    "    awnser =  stats.ttest_ind(a= left[column],b= stayed[column] ,equal_var=False)\n",
    "    p_values.append(f'variable {column} gave the following statistics : {awnser}.format')\n",
    "    awnsers.append([column,awnser])"
   ]
  },
  {
   "cell_type": "code",
   "execution_count": 18,
   "id": "e812f8f0",
   "metadata": {},
   "outputs": [
    {
     "data": {
      "text/plain": [
       "['variable creditscore gave the following statistics : TtestResult(statistic=-2.6346605436575796, pvalue=0.008464728991832862, df=3050.895535490558).format',\n",
       " 'variable age gave the following statistics : TtestResult(statistic=30.419197204406792, pvalue=4.7127272656641046e-179, df=3248.052835708304).format',\n",
       " 'variable tenure gave the following statistics : TtestResult(statistic=-1.384328819131246, pvalue=0.16635698992884443, df=3113.84809185945).format',\n",
       " 'variable balance gave the following statistics : TtestResult(statistic=12.471280320050688, pvalue=6.318663518527974e-35, df=3347.82845302613).format',\n",
       " 'variable numofproducts gave the following statistics : TtestResult(statistic=-3.701997887883855, pvalue=0.00021858494460549394, df=2471.964551090773).format',\n",
       " 'variable hascrcard gave the following statistics : TtestResult(statistic=-0.710329153715085, pvalue=0.4775528097988775, df=3139.1747969844373).format',\n",
       " 'variable isactivemember gave the following statistics : TtestResult(statistic=-16.128142683031264, pvalue=2.384770284779395e-56, df=3241.825345496662).format',\n",
       " 'variable estimatedsalary gave the following statistics : TtestResult(statistic=1.2033683196586242, pvalue=0.22892461305145798, df=3137.4400676389287).format']"
      ]
     },
     "execution_count": 18,
     "metadata": {},
     "output_type": "execute_result"
    }
   ],
   "source": [
    "p_values"
   ]
  },
  {
   "cell_type": "code",
   "execution_count": 19,
   "id": "9aa88b4c",
   "metadata": {},
   "outputs": [
    {
     "name": "stdout",
     "output_type": "stream",
     "text": [
      "0.008464729 , creditscore\n",
      "0.000000000 , age\n",
      "0.166356990 , tenure\n",
      "0.000000000 , balance\n",
      "0.000218585 , numofproducts\n",
      "0.477552810 , hascrcard\n",
      "0.000000000 , isactivemember\n",
      "0.228924613 , estimatedsalary\n"
     ]
    }
   ],
   "source": [
    "results = []\n",
    "for i in range(len(awnsers)):\n",
    "    print(f'{(awnsers[i][1][1]):.9f} , {awnsers[i][0]}')\n",
    "    results.append(f'{(awnsers[i][1][1]):.9f} , {awnsers[i][0]}')"
   ]
  },
  {
   "cell_type": "markdown",
   "id": "eb9e2318",
   "metadata": {},
   "source": [
    "### p-values is the propability of the means coming from the same distribution, so the smaller the p-value the smaller the porpability "
   ]
  },
  {
   "cell_type": "code",
   "execution_count": null,
   "id": "884d059d",
   "metadata": {},
   "outputs": [],
   "source": []
  },
  {
   "cell_type": "markdown",
   "id": "cc7d0f73",
   "metadata": {},
   "source": [
    "## for cateogorical vairables we will use chi squared tests "
   ]
  },
  {
   "cell_type": "code",
   "execution_count": 20,
   "id": "7b057afc",
   "metadata": {},
   "outputs": [],
   "source": [
    "countries = data[['geography','exited']]"
   ]
  },
  {
   "cell_type": "code",
   "execution_count": 21,
   "id": "faad835a",
   "metadata": {},
   "outputs": [],
   "source": [
    "genders = data[['gender','exited']]"
   ]
  },
  {
   "cell_type": "code",
   "execution_count": 22,
   "id": "33e7a6ad",
   "metadata": {},
   "outputs": [],
   "source": [
    "countries = pd.crosstab(countries.geography,countries.exited)"
   ]
  },
  {
   "cell_type": "code",
   "execution_count": 23,
   "id": "a7d958b6",
   "metadata": {},
   "outputs": [
    {
     "data": {
      "text/html": [
       "<div>\n",
       "<style scoped>\n",
       "    .dataframe tbody tr th:only-of-type {\n",
       "        vertical-align: middle;\n",
       "    }\n",
       "\n",
       "    .dataframe tbody tr th {\n",
       "        vertical-align: top;\n",
       "    }\n",
       "\n",
       "    .dataframe thead th {\n",
       "        text-align: right;\n",
       "    }\n",
       "</style>\n",
       "<table border=\"1\" class=\"dataframe\">\n",
       "  <thead>\n",
       "    <tr style=\"text-align: right;\">\n",
       "      <th>exited</th>\n",
       "      <th>0</th>\n",
       "      <th>1</th>\n",
       "    </tr>\n",
       "    <tr>\n",
       "      <th>geography</th>\n",
       "      <th></th>\n",
       "      <th></th>\n",
       "    </tr>\n",
       "  </thead>\n",
       "  <tbody>\n",
       "    <tr>\n",
       "      <th>France</th>\n",
       "      <td>4204</td>\n",
       "      <td>810</td>\n",
       "    </tr>\n",
       "    <tr>\n",
       "      <th>Germany</th>\n",
       "      <td>1695</td>\n",
       "      <td>814</td>\n",
       "    </tr>\n",
       "    <tr>\n",
       "      <th>Spain</th>\n",
       "      <td>2064</td>\n",
       "      <td>413</td>\n",
       "    </tr>\n",
       "  </tbody>\n",
       "</table>\n",
       "</div>"
      ],
      "text/plain": [
       "exited        0    1\n",
       "geography           \n",
       "France     4204  810\n",
       "Germany    1695  814\n",
       "Spain      2064  413"
      ]
     },
     "execution_count": 23,
     "metadata": {},
     "output_type": "execute_result"
    }
   ],
   "source": [
    "countries"
   ]
  },
  {
   "cell_type": "code",
   "execution_count": 24,
   "id": "e9221e68",
   "metadata": {},
   "outputs": [
    {
     "data": {
      "text/plain": [
       "Chi2ContingencyResult(statistic=301.25533682434536, pvalue=3.8303176053541544e-66, dof=2, expected_freq=array([[3992.6482, 1021.3518],\n",
       "       [1997.9167,  511.0833],\n",
       "       [1972.4351,  504.5649]]))"
      ]
     },
     "execution_count": 24,
     "metadata": {},
     "output_type": "execute_result"
    }
   ],
   "source": [
    "awnser = stats.chi2_contingency(countries)\n",
    "awnser"
   ]
  },
  {
   "cell_type": "code",
   "execution_count": null,
   "id": "317ae101",
   "metadata": {},
   "outputs": [],
   "source": []
  },
  {
   "cell_type": "code",
   "execution_count": 25,
   "id": "e0a9b3fb",
   "metadata": {},
   "outputs": [
    {
     "name": "stdout",
     "output_type": "stream",
     "text": [
      "0.000000000 ,country\n"
     ]
    }
   ],
   "source": [
    "print(f'{(awnser[1]):.9f} ,country')\n",
    "results.append(f'{(awnser[1]):.9f} ,country')"
   ]
  },
  {
   "cell_type": "code",
   "execution_count": 26,
   "id": "97e06e1b",
   "metadata": {},
   "outputs": [],
   "source": [
    "genders = pd.crosstab(genders['gender'],genders.exited)\n",
    "awnser = stats.chi2_contingency(genders)\n"
   ]
  },
  {
   "cell_type": "code",
   "execution_count": 27,
   "id": "9479d7ca",
   "metadata": {},
   "outputs": [
    {
     "name": "stdout",
     "output_type": "stream",
     "text": [
      "0.000000000 ,gender\n"
     ]
    }
   ],
   "source": [
    "print(f'{(awnser[1]):.9f} ,gender')\n",
    "results.append(f'{(awnser[1]):.9f} ,gender')"
   ]
  },
  {
   "cell_type": "code",
   "execution_count": 28,
   "id": "6fc5acef",
   "metadata": {},
   "outputs": [
    {
     "name": "stdout",
     "output_type": "stream",
     "text": [
      "0.008464729 , creditscore\n",
      "0.000000000 , age\n",
      "0.166356990 , tenure\n",
      "0.000000000 , balance\n",
      "0.000218585 , numofproducts\n",
      "0.477552810 , hascrcard\n",
      "0.000000000 , isactivemember\n",
      "0.228924613 , estimatedsalary\n",
      "0.000000000 ,country\n",
      "0.000000000 ,gender\n"
     ]
    }
   ],
   "source": [
    "## now lets see the results : \n",
    "for i in results:\n",
    "    print(i)"
   ]
  },
  {
   "cell_type": "markdown",
   "id": "4b33370b",
   "metadata": {},
   "source": [
    "##  Very strong indicators for a person to exit are:\n",
    "###    age,gender,country,balace,isactivemember \n",
    "### strong indicators for a person to exit are : \n",
    "###    number of products and credit score "
   ]
  },
  {
   "cell_type": "code",
   "execution_count": null,
   "id": "52b44a33",
   "metadata": {},
   "outputs": [],
   "source": []
  },
  {
   "cell_type": "code",
   "execution_count": null,
   "id": "aa881ce8",
   "metadata": {},
   "outputs": [],
   "source": []
  },
  {
   "cell_type": "markdown",
   "id": "920eab39",
   "metadata": {},
   "source": [
    "## lets verify that using correlation"
   ]
  },
  {
   "cell_type": "markdown",
   "id": "7ea01a71",
   "metadata": {},
   "source": [
    "### but first make the categorical columns to numeric ones\n",
    "### in a new dataframe\n"
   ]
  },
  {
   "cell_type": "code",
   "execution_count": 29,
   "id": "b012873e",
   "metadata": {},
   "outputs": [],
   "source": [
    "df = data.copy(deep=True)"
   ]
  },
  {
   "cell_type": "code",
   "execution_count": 30,
   "id": "92b04ce8",
   "metadata": {},
   "outputs": [],
   "source": [
    "\n",
    "\n",
    "\n",
    "def cat_to_num(variable):\n",
    "    uniques  = data[variable].unique()\n",
    "    replacements = [i+1 for i in range(len(uniques))]\n",
    "    data[variable].replace(uniques,replacements,inplace=True)\n",
    "    \n",
    "cat_to_num('geography')\n",
    "cat_to_num('gender')"
   ]
  },
  {
   "cell_type": "code",
   "execution_count": 31,
   "id": "c2912598",
   "metadata": {},
   "outputs": [
    {
     "data": {
      "text/html": [
       "<div>\n",
       "<style scoped>\n",
       "    .dataframe tbody tr th:only-of-type {\n",
       "        vertical-align: middle;\n",
       "    }\n",
       "\n",
       "    .dataframe tbody tr th {\n",
       "        vertical-align: top;\n",
       "    }\n",
       "\n",
       "    .dataframe thead th {\n",
       "        text-align: right;\n",
       "    }\n",
       "</style>\n",
       "<table border=\"1\" class=\"dataframe\">\n",
       "  <thead>\n",
       "    <tr style=\"text-align: right;\">\n",
       "      <th></th>\n",
       "      <th>creditscore</th>\n",
       "      <th>geography</th>\n",
       "      <th>gender</th>\n",
       "      <th>age</th>\n",
       "      <th>tenure</th>\n",
       "      <th>balance</th>\n",
       "      <th>numofproducts</th>\n",
       "      <th>hascrcard</th>\n",
       "      <th>isactivemember</th>\n",
       "      <th>estimatedsalary</th>\n",
       "      <th>exited</th>\n",
       "    </tr>\n",
       "  </thead>\n",
       "  <tbody>\n",
       "    <tr>\n",
       "      <th>0</th>\n",
       "      <td>619</td>\n",
       "      <td>1</td>\n",
       "      <td>1</td>\n",
       "      <td>42</td>\n",
       "      <td>2</td>\n",
       "      <td>0.000</td>\n",
       "      <td>1</td>\n",
       "      <td>1</td>\n",
       "      <td>1</td>\n",
       "      <td>101348.880</td>\n",
       "      <td>1</td>\n",
       "    </tr>\n",
       "    <tr>\n",
       "      <th>1</th>\n",
       "      <td>608</td>\n",
       "      <td>2</td>\n",
       "      <td>1</td>\n",
       "      <td>41</td>\n",
       "      <td>1</td>\n",
       "      <td>83807.860</td>\n",
       "      <td>1</td>\n",
       "      <td>0</td>\n",
       "      <td>1</td>\n",
       "      <td>112542.580</td>\n",
       "      <td>0</td>\n",
       "    </tr>\n",
       "    <tr>\n",
       "      <th>2</th>\n",
       "      <td>502</td>\n",
       "      <td>1</td>\n",
       "      <td>1</td>\n",
       "      <td>42</td>\n",
       "      <td>8</td>\n",
       "      <td>159660.800</td>\n",
       "      <td>3</td>\n",
       "      <td>1</td>\n",
       "      <td>0</td>\n",
       "      <td>113931.570</td>\n",
       "      <td>1</td>\n",
       "    </tr>\n",
       "    <tr>\n",
       "      <th>3</th>\n",
       "      <td>699</td>\n",
       "      <td>1</td>\n",
       "      <td>1</td>\n",
       "      <td>39</td>\n",
       "      <td>1</td>\n",
       "      <td>0.000</td>\n",
       "      <td>2</td>\n",
       "      <td>0</td>\n",
       "      <td>0</td>\n",
       "      <td>93826.630</td>\n",
       "      <td>0</td>\n",
       "    </tr>\n",
       "  </tbody>\n",
       "</table>\n",
       "</div>"
      ],
      "text/plain": [
       "   creditscore  geography  gender  age  tenure    balance  numofproducts  \\\n",
       "0          619          1       1   42       2      0.000              1   \n",
       "1          608          2       1   41       1  83807.860              1   \n",
       "2          502          1       1   42       8 159660.800              3   \n",
       "3          699          1       1   39       1      0.000              2   \n",
       "\n",
       "   hascrcard  isactivemember  estimatedsalary  exited  \n",
       "0          1               1       101348.880       1  \n",
       "1          0               1       112542.580       0  \n",
       "2          1               0       113931.570       1  \n",
       "3          0               0        93826.630       0  "
      ]
     },
     "execution_count": 31,
     "metadata": {},
     "output_type": "execute_result"
    }
   ],
   "source": [
    "data.head(4)"
   ]
  },
  {
   "cell_type": "markdown",
   "id": "ecb04cb2",
   "metadata": {},
   "source": [
    "## now see the correlations !"
   ]
  },
  {
   "cell_type": "code",
   "execution_count": 32,
   "id": "44140cef",
   "metadata": {},
   "outputs": [
    {
     "data": {
      "text/plain": [
       "Text(0.5, 1.0, 'correlations')"
      ]
     },
     "execution_count": 32,
     "metadata": {},
     "output_type": "execute_result"
    },
    {
     "data": {
      "image/png": "[encoded data removed]",
      "text/plain": [
       "<Figure size 1000x1000 with 2 Axes>"
      ]
     },
     "metadata": {},
     "output_type": "display_data"
    }
   ],
   "source": [
    "plt.figure(figsize=(10,10))\n",
    "sns.heatmap(data.corr(),annot=True)\n",
    "plt.title('correlations')\n"
   ]
  },
  {
   "cell_type": "code",
   "execution_count": 33,
   "id": "9ea26656",
   "metadata": {},
   "outputs": [],
   "source": [
    "Indicators = pd.DataFrame(data.corr()['exited']).reset_index().rename(columns={'index':'variable','exited':'correlation'})\n",
    "Indicators['correlation'] = abs(Indicators['correlation'])\n",
    "Indicators.drop(index=10,inplace=True)\n",
    "Indicators.sort_values(by='correlation',ascending=False,inplace=True)"
   ]
  },
  {
   "cell_type": "code",
   "execution_count": 34,
   "id": "b9119fb8",
   "metadata": {},
   "outputs": [
    {
     "data": {
      "text/html": [
       "<div>\n",
       "<style scoped>\n",
       "    .dataframe tbody tr th:only-of-type {\n",
       "        vertical-align: middle;\n",
       "    }\n",
       "\n",
       "    .dataframe tbody tr th {\n",
       "        vertical-align: top;\n",
       "    }\n",
       "\n",
       "    .dataframe thead th {\n",
       "        text-align: right;\n",
       "    }\n",
       "</style>\n",
       "<table border=\"1\" class=\"dataframe\">\n",
       "  <thead>\n",
       "    <tr style=\"text-align: right;\">\n",
       "      <th></th>\n",
       "      <th>variable</th>\n",
       "      <th>correlation</th>\n",
       "    </tr>\n",
       "  </thead>\n",
       "  <tbody>\n",
       "    <tr>\n",
       "      <th>3</th>\n",
       "      <td>age</td>\n",
       "      <td>0.285</td>\n",
       "    </tr>\n",
       "    <tr>\n",
       "      <th>8</th>\n",
       "      <td>isactivemember</td>\n",
       "      <td>0.156</td>\n",
       "    </tr>\n",
       "    <tr>\n",
       "      <th>1</th>\n",
       "      <td>geography</td>\n",
       "      <td>0.154</td>\n",
       "    </tr>\n",
       "    <tr>\n",
       "      <th>5</th>\n",
       "      <td>balance</td>\n",
       "      <td>0.119</td>\n",
       "    </tr>\n",
       "    <tr>\n",
       "      <th>2</th>\n",
       "      <td>gender</td>\n",
       "      <td>0.107</td>\n",
       "    </tr>\n",
       "    <tr>\n",
       "      <th>6</th>\n",
       "      <td>numofproducts</td>\n",
       "      <td>0.048</td>\n",
       "    </tr>\n",
       "    <tr>\n",
       "      <th>0</th>\n",
       "      <td>creditscore</td>\n",
       "      <td>0.027</td>\n",
       "    </tr>\n",
       "    <tr>\n",
       "      <th>4</th>\n",
       "      <td>tenure</td>\n",
       "      <td>0.014</td>\n",
       "    </tr>\n",
       "    <tr>\n",
       "      <th>9</th>\n",
       "      <td>estimatedsalary</td>\n",
       "      <td>0.012</td>\n",
       "    </tr>\n",
       "    <tr>\n",
       "      <th>7</th>\n",
       "      <td>hascrcard</td>\n",
       "      <td>0.007</td>\n",
       "    </tr>\n",
       "  </tbody>\n",
       "</table>\n",
       "</div>"
      ],
      "text/plain": [
       "          variable  correlation\n",
       "3              age        0.285\n",
       "8   isactivemember        0.156\n",
       "1        geography        0.154\n",
       "5          balance        0.119\n",
       "2           gender        0.107\n",
       "6    numofproducts        0.048\n",
       "0      creditscore        0.027\n",
       "4           tenure        0.014\n",
       "9  estimatedsalary        0.012\n",
       "7        hascrcard        0.007"
      ]
     },
     "execution_count": 34,
     "metadata": {},
     "output_type": "execute_result"
    }
   ],
   "source": [
    "Indicators"
   ]
  },
  {
   "cell_type": "markdown",
   "id": "346ae6bf",
   "metadata": {},
   "source": [
    "####  previous asamptions were correct"
   ]
  },
  {
   "cell_type": "code",
   "execution_count": null,
   "id": "9bcd44a1",
   "metadata": {},
   "outputs": [],
   "source": []
  },
  {
   "cell_type": "markdown",
   "id": "78b60e84",
   "metadata": {},
   "source": [
    "# now lets find out exactly whats happening for each variable "
   ]
  },
  {
   "cell_type": "markdown",
   "id": "6c9438f3",
   "metadata": {},
   "source": [
    "### starting with gender "
   ]
  },
  {
   "cell_type": "code",
   "execution_count": 35,
   "id": "07ce7509",
   "metadata": {},
   "outputs": [],
   "source": [
    "x = df.gender.value_counts()\n",
    "y = df.loc[df['exited'] == 1,'gender'].value_counts()\n"
   ]
  },
  {
   "cell_type": "code",
   "execution_count": 36,
   "id": "f120650b",
   "metadata": {},
   "outputs": [
    {
     "data": {
      "text/plain": [
       "gender\n",
       "Male      5457\n",
       "Female    4543\n",
       "Name: count, dtype: int64"
      ]
     },
     "execution_count": 36,
     "metadata": {},
     "output_type": "execute_result"
    }
   ],
   "source": [
    "x"
   ]
  },
  {
   "cell_type": "code",
   "execution_count": 37,
   "id": "b432b3ee",
   "metadata": {},
   "outputs": [
    {
     "data": {
      "text/plain": [
       "gender\n",
       "Female    1139\n",
       "Male       898\n",
       "Name: count, dtype: int64"
      ]
     },
     "execution_count": 37,
     "metadata": {},
     "output_type": "execute_result"
    }
   ],
   "source": [
    "y"
   ]
  },
  {
   "cell_type": "code",
   "execution_count": 38,
   "id": "d7ffa3c2",
   "metadata": {},
   "outputs": [
    {
     "name": "stderr",
     "output_type": "stream",
     "text": [
      "C:\\Users\\mplan\\AppData\\Local\\Temp\\ipykernel_6620\\3576059141.py:1: FutureWarning: Series.__getitem__ treating keys as positions is deprecated. In a future version, integer keys will always be treated as labels (consistent with DataFrame behavior). To access a value by position, use `ser.iloc[pos]`\n",
      "  man_ratio = y[1]/x[0]\n",
      "C:\\Users\\mplan\\AppData\\Local\\Temp\\ipykernel_6620\\3576059141.py:2: FutureWarning: Series.__getitem__ treating keys as positions is deprecated. In a future version, integer keys will always be treated as labels (consistent with DataFrame behavior). To access a value by position, use `ser.iloc[pos]`\n",
      "  woman_ratio = y[0]/x[1]\n"
     ]
    }
   ],
   "source": [
    "man_ratio = y[1]/x[0]\n",
    "woman_ratio = y[0]/x[1]"
   ]
  },
  {
   "cell_type": "code",
   "execution_count": 39,
   "id": "03411cfa",
   "metadata": {},
   "outputs": [],
   "source": [
    "genders = ['woman','man']\n",
    "ratios =pd.DataFrame({'genders':genders,'ratios' :[woman_ratio,man_ratio]})"
   ]
  },
  {
   "cell_type": "code",
   "execution_count": 40,
   "id": "d64ff60a",
   "metadata": {},
   "outputs": [
    {
     "data": {
      "text/html": [
       "<div>\n",
       "<style scoped>\n",
       "    .dataframe tbody tr th:only-of-type {\n",
       "        vertical-align: middle;\n",
       "    }\n",
       "\n",
       "    .dataframe tbody tr th {\n",
       "        vertical-align: top;\n",
       "    }\n",
       "\n",
       "    .dataframe thead th {\n",
       "        text-align: right;\n",
       "    }\n",
       "</style>\n",
       "<table border=\"1\" class=\"dataframe\">\n",
       "  <thead>\n",
       "    <tr style=\"text-align: right;\">\n",
       "      <th></th>\n",
       "      <th>genders</th>\n",
       "      <th>ratios</th>\n",
       "    </tr>\n",
       "  </thead>\n",
       "  <tbody>\n",
       "    <tr>\n",
       "      <th>0</th>\n",
       "      <td>woman</td>\n",
       "      <td>0.251</td>\n",
       "    </tr>\n",
       "    <tr>\n",
       "      <th>1</th>\n",
       "      <td>man</td>\n",
       "      <td>0.165</td>\n",
       "    </tr>\n",
       "  </tbody>\n",
       "</table>\n",
       "</div>"
      ],
      "text/plain": [
       "  genders  ratios\n",
       "0   woman   0.251\n",
       "1     man   0.165"
      ]
     },
     "execution_count": 40,
     "metadata": {},
     "output_type": "execute_result"
    }
   ],
   "source": [
    "ratios"
   ]
  },
  {
   "cell_type": "code",
   "execution_count": 41,
   "id": "011e1f13",
   "metadata": {},
   "outputs": [
    {
     "name": "stdout",
     "output_type": "stream",
     "text": [
      "woman ratio of leaving = 0.2507153863086066, man ratio of leaving = 0.16455928165658787\n"
     ]
    }
   ],
   "source": [
    "print(f'woman ratio of leaving = {woman_ratio}, man ratio of leaving = {man_ratio}')"
   ]
  },
  {
   "cell_type": "code",
   "execution_count": 42,
   "id": "ee360b98",
   "metadata": {},
   "outputs": [
    {
     "data": {
      "image/png": "[encoded data removed]",
      "text/plain": [
       "<Figure size 500x500 with 1 Axes>"
      ]
     },
     "metadata": {},
     "output_type": "display_data"
    }
   ],
   "source": [
    "plt.figure(figsize=(5,5))\n",
    "plt.bar(ratios['genders'][0],ratios['ratios'][0],label='woman_ratio',color='b')\n",
    "plt.bar(ratios['genders'][1],ratios['ratios'][1],label='man_ratio',color='r')\n",
    "plt.legend()\n",
    "plt.title('exiting ratio by gender')\n",
    "plt.xticks(['woman','man'])\n",
    "plt.xlabel('gender')\n",
    "plt.ylabel('ratio')\n",
    "plt.savefig('gender.png')\n",
    "plt.show()\n"
   ]
  },
  {
   "cell_type": "markdown",
   "id": "f2d5384b",
   "metadata": {},
   "source": [
    "### women exiting with a higher ratio than men "
   ]
  },
  {
   "cell_type": "code",
   "execution_count": null,
   "id": "9de950cd",
   "metadata": {},
   "outputs": [],
   "source": []
  },
  {
   "cell_type": "markdown",
   "id": "d9c7980a",
   "metadata": {},
   "source": [
    "\n",
    "## age "
   ]
  },
  {
   "cell_type": "code",
   "execution_count": 43,
   "id": "d8a415b4",
   "metadata": {},
   "outputs": [
    {
     "data": {
      "text/plain": [
       "92"
      ]
     },
     "execution_count": 43,
     "metadata": {},
     "output_type": "execute_result"
    }
   ],
   "source": [
    "df.age.max()"
   ]
  },
  {
   "cell_type": "code",
   "execution_count": 44,
   "id": "0e96ca00",
   "metadata": {},
   "outputs": [
    {
     "data": {
      "text/plain": [
       "18"
      ]
     },
     "execution_count": 44,
     "metadata": {},
     "output_type": "execute_result"
    }
   ],
   "source": [
    "df.age.min()"
   ]
  },
  {
   "cell_type": "code",
   "execution_count": 45,
   "id": "17d88b68",
   "metadata": {},
   "outputs": [],
   "source": [
    "### first lets group the ages by 10 years\n",
    "new_age = []\n",
    "years = data.age.values\n",
    "for ages in years:\n",
    "    if ages > 17 and ages < 20:\n",
    "        new_ages = 1\n",
    "    elif ages >= 20 and ages< 30 :\n",
    "        new_ages = 2\n",
    "    elif ages >= 30 and ages < 40:\n",
    "        new_ages = 3\n",
    "    elif ages >= 40 and ages < 50 : \n",
    "        new_ages = 4\n",
    "    elif ages >= 50 and ages < 60:\n",
    "        new_ages = 5\n",
    "    elif ages >= 60 and ages < 70:\n",
    "        new_ages = 6\n",
    "    elif ages >= 70 and ages < 80:\n",
    "        new_ages = 7\n",
    "    else:\n",
    "        new_ages = 8\n",
    "    new_age.append(new_ages)"
   ]
  },
  {
   "cell_type": "code",
   "execution_count": 46,
   "id": "69c1b264",
   "metadata": {},
   "outputs": [],
   "source": [
    "df['decade'] = new_age"
   ]
  },
  {
   "cell_type": "code",
   "execution_count": 47,
   "id": "e2ce481b",
   "metadata": {},
   "outputs": [],
   "source": [
    "x = df.decade.value_counts().reset_index()"
   ]
  },
  {
   "cell_type": "code",
   "execution_count": 48,
   "id": "8d0ebdfc",
   "metadata": {},
   "outputs": [],
   "source": [
    "y = df.loc[df['exited'] == 1,'decade'].value_counts().reset_index()"
   ]
  },
  {
   "cell_type": "code",
   "execution_count": 49,
   "id": "5b055428",
   "metadata": {},
   "outputs": [],
   "source": [
    "age_counts = pd.merge(x,y,on='decade')"
   ]
  },
  {
   "cell_type": "code",
   "execution_count": 50,
   "id": "de59fbb7",
   "metadata": {},
   "outputs": [],
   "source": [
    "values = age_counts.values\n"
   ]
  },
  {
   "cell_type": "code",
   "execution_count": 51,
   "id": "5f07ced3",
   "metadata": {},
   "outputs": [
    {
     "data": {
      "text/plain": [
       "array([[   3, 4346,  473],\n",
       "       [   4, 2618,  806],\n",
       "       [   2, 1592,  121],\n",
       "       [   5,  869,  487],\n",
       "       [   6,  375,  132],\n",
       "       [   7,  136,   14],\n",
       "       [   1,   49,    3],\n",
       "       [   8,   15,    1]], dtype=int64)"
      ]
     },
     "execution_count": 51,
     "metadata": {},
     "output_type": "execute_result"
    }
   ],
   "source": [
    "values"
   ]
  },
  {
   "cell_type": "code",
   "execution_count": 52,
   "id": "2f545105",
   "metadata": {},
   "outputs": [],
   "source": [
    "age_ratios = []\n",
    "for i in range(len(values)) : \n",
    "    x = values[i][2]\n",
    "    y = values[i][1]\n",
    "    ratio = x/y\n",
    "    age_ratios.append([values[i][0],ratio])\n",
    "    \n"
   ]
  },
  {
   "cell_type": "code",
   "execution_count": 53,
   "id": "769d593d",
   "metadata": {},
   "outputs": [],
   "source": [
    "ages = pd.DataFrame(age_ratios,columns=['decade','exiting_ratio']).sort_values(by='exiting_ratio')\n"
   ]
  },
  {
   "cell_type": "code",
   "execution_count": 54,
   "id": "45743ef5",
   "metadata": {},
   "outputs": [
    {
     "data": {
      "text/html": [
       "<div>\n",
       "<style scoped>\n",
       "    .dataframe tbody tr th:only-of-type {\n",
       "        vertical-align: middle;\n",
       "    }\n",
       "\n",
       "    .dataframe tbody tr th {\n",
       "        vertical-align: top;\n",
       "    }\n",
       "\n",
       "    .dataframe thead th {\n",
       "        text-align: right;\n",
       "    }\n",
       "</style>\n",
       "<table border=\"1\" class=\"dataframe\">\n",
       "  <thead>\n",
       "    <tr style=\"text-align: right;\">\n",
       "      <th></th>\n",
       "      <th>decade</th>\n",
       "      <th>exiting_ratio</th>\n",
       "    </tr>\n",
       "  </thead>\n",
       "  <tbody>\n",
       "    <tr>\n",
       "      <th>6</th>\n",
       "      <td>1</td>\n",
       "      <td>0.061</td>\n",
       "    </tr>\n",
       "    <tr>\n",
       "      <th>7</th>\n",
       "      <td>8</td>\n",
       "      <td>0.067</td>\n",
       "    </tr>\n",
       "    <tr>\n",
       "      <th>2</th>\n",
       "      <td>2</td>\n",
       "      <td>0.076</td>\n",
       "    </tr>\n",
       "    <tr>\n",
       "      <th>5</th>\n",
       "      <td>7</td>\n",
       "      <td>0.103</td>\n",
       "    </tr>\n",
       "    <tr>\n",
       "      <th>0</th>\n",
       "      <td>3</td>\n",
       "      <td>0.109</td>\n",
       "    </tr>\n",
       "    <tr>\n",
       "      <th>1</th>\n",
       "      <td>4</td>\n",
       "      <td>0.308</td>\n",
       "    </tr>\n",
       "    <tr>\n",
       "      <th>4</th>\n",
       "      <td>6</td>\n",
       "      <td>0.352</td>\n",
       "    </tr>\n",
       "    <tr>\n",
       "      <th>3</th>\n",
       "      <td>5</td>\n",
       "      <td>0.560</td>\n",
       "    </tr>\n",
       "  </tbody>\n",
       "</table>\n",
       "</div>"
      ],
      "text/plain": [
       "   decade  exiting_ratio\n",
       "6       1          0.061\n",
       "7       8          0.067\n",
       "2       2          0.076\n",
       "5       7          0.103\n",
       "0       3          0.109\n",
       "1       4          0.308\n",
       "4       6          0.352\n",
       "3       5          0.560"
      ]
     },
     "execution_count": 54,
     "metadata": {},
     "output_type": "execute_result"
    }
   ],
   "source": [
    "ages"
   ]
  },
  {
   "cell_type": "code",
   "execution_count": 55,
   "id": "aa7272a5",
   "metadata": {},
   "outputs": [],
   "source": [
    "ages['age'] = ['17-20','80-90','20-30','70-80','30-40','40-50','60-70','50-60']\n"
   ]
  },
  {
   "cell_type": "code",
   "execution_count": 56,
   "id": "b10ce13b",
   "metadata": {},
   "outputs": [
    {
     "data": {
      "image/png": "[encoded data removed]",
      "text/plain": [
       "<Figure size 500x500 with 1 Axes>"
      ]
     },
     "metadata": {},
     "output_type": "display_data"
    }
   ],
   "source": [
    "pltage = ages.drop(columns=['decade'])\n",
    "plt.figure(figsize=(5,5))\n",
    "plt.bar(pltage['age'],pltage['exiting_ratio'],color=['c','c','c','c','c','k','k','k'])\n",
    "plt.title('exiting ratio by age')\n",
    "plt.xticks(rotation=45)\n",
    "plt.xlabel('age')\n",
    "plt.ylabel('ratio')\n",
    "plt.savefig('age.png')\n",
    "plt.show()\n"
   ]
  },
  {
   "cell_type": "markdown",
   "id": "1ec4804f",
   "metadata": {},
   "source": [
    "### people between 40-60 years of age tend to exit more , having higher exiting ratio "
   ]
  },
  {
   "cell_type": "code",
   "execution_count": null,
   "id": "9dc3d070",
   "metadata": {},
   "outputs": [],
   "source": []
  },
  {
   "cell_type": "code",
   "execution_count": null,
   "id": "901f33f3",
   "metadata": {},
   "outputs": [],
   "source": []
  },
  {
   "cell_type": "markdown",
   "id": "b305e10f",
   "metadata": {},
   "source": [
    "##  balance "
   ]
  },
  {
   "cell_type": "code",
   "execution_count": 57,
   "id": "318ee914",
   "metadata": {},
   "outputs": [
    {
     "data": {
      "text/plain": [
       "6382"
      ]
     },
     "execution_count": 57,
     "metadata": {},
     "output_type": "execute_result"
    }
   ],
   "source": [
    "len(df.balance.unique())"
   ]
  },
  {
   "cell_type": "code",
   "execution_count": 58,
   "id": "4db86961",
   "metadata": {},
   "outputs": [
    {
     "data": {
      "text/plain": [
       "250898.09"
      ]
     },
     "execution_count": 58,
     "metadata": {},
     "output_type": "execute_result"
    }
   ],
   "source": [
    "df.balance.max()"
   ]
  },
  {
   "cell_type": "code",
   "execution_count": 59,
   "id": "e61a8283",
   "metadata": {},
   "outputs": [
    {
     "data": {
      "text/plain": [
       "<seaborn.axisgrid.FacetGrid at 0x23129880ed0>"
      ]
     },
     "execution_count": 59,
     "metadata": {},
     "output_type": "execute_result"
    },
    {
     "data": {
      "image/png": "[encoded data removed]",
      "text/plain": [
       "<Figure size 500x500 with 1 Axes>"
      ]
     },
     "metadata": {},
     "output_type": "display_data"
    }
   ],
   "source": [
    "sns.displot(df.balance)"
   ]
  },
  {
   "cell_type": "code",
   "execution_count": 60,
   "id": "03c36f3b",
   "metadata": {},
   "outputs": [
    {
     "data": {
      "text/plain": [
       "array([     0.  ,  83807.86, 159660.8 , ...,      0.  ,  75075.31,\n",
       "       130142.79])"
      ]
     },
     "execution_count": 60,
     "metadata": {},
     "output_type": "execute_result"
    }
   ],
   "source": [
    "balance = df.balance.values\n",
    "balance"
   ]
  },
  {
   "cell_type": "code",
   "execution_count": 61,
   "id": "37ab4695",
   "metadata": {},
   "outputs": [],
   "source": [
    "# as we can see from the distribution graph balance goes from 0 to 250000 so we will split it in 25k bins\n",
    "\n",
    "balance = df.balance.values\n",
    "\n",
    "new_balance  = []\n",
    "for i in range(len(balance)):\n",
    "    if balance[i] >= 0 and balance[i] < 25000:\n",
    "        x = 1\n",
    "    elif balance[i] >= 25000 and balance[i]<50000:\n",
    "        x = 2\n",
    "    elif balance[i] >= 50000 and balance[i] < 75000:\n",
    "        x = 3\n",
    "    elif balance[i] >= 75000 and balance[i] < 100000:\n",
    "        x = 4\n",
    "    elif balance[i] >= 100000 and balance[i] < 125000:\n",
    "        x = 5\n",
    "    elif balance[i] >= 125000 and balance[i] < 150000:\n",
    "        x = 6\n",
    "    elif balance[i] >= 150000 and balance[i] < 175000:\n",
    "        x = 7\n",
    "    elif balance[i] >= 175000 and balance[i] < 200000:\n",
    "        x = 8\n",
    "    elif balance[i] >= 200000 and balance[i] < 225000:\n",
    "        x = 9\n",
    "    else:\n",
    "        x = 10\n",
    "    new_balance.append(x)"
   ]
  },
  {
   "cell_type": "code",
   "execution_count": 62,
   "id": "40ae07ac",
   "metadata": {},
   "outputs": [],
   "source": [
    "df['round_balance'] = new_balance"
   ]
  },
  {
   "cell_type": "code",
   "execution_count": 63,
   "id": "68c40b2d",
   "metadata": {},
   "outputs": [],
   "source": [
    "x = df.round_balance.value_counts()"
   ]
  },
  {
   "cell_type": "code",
   "execution_count": 64,
   "id": "3dfba933",
   "metadata": {},
   "outputs": [],
   "source": [
    "y = df.loc[df['exited'] == 1,['round_balance']].value_counts().reset_index()"
   ]
  },
  {
   "cell_type": "code",
   "execution_count": 65,
   "id": "f54d9546",
   "metadata": {},
   "outputs": [],
   "source": [
    "balances = pd.merge(x,y,on='round_balance')"
   ]
  },
  {
   "cell_type": "code",
   "execution_count": 66,
   "id": "55342601",
   "metadata": {},
   "outputs": [
    {
     "data": {
      "text/html": [
       "<div>\n",
       "<style scoped>\n",
       "    .dataframe tbody tr th:only-of-type {\n",
       "        vertical-align: middle;\n",
       "    }\n",
       "\n",
       "    .dataframe tbody tr th {\n",
       "        vertical-align: top;\n",
       "    }\n",
       "\n",
       "    .dataframe thead th {\n",
       "        text-align: right;\n",
       "    }\n",
       "</style>\n",
       "<table border=\"1\" class=\"dataframe\">\n",
       "  <thead>\n",
       "    <tr style=\"text-align: right;\">\n",
       "      <th></th>\n",
       "      <th>round_balance</th>\n",
       "      <th>count_x</th>\n",
       "      <th>count_y</th>\n",
       "    </tr>\n",
       "  </thead>\n",
       "  <tbody>\n",
       "    <tr>\n",
       "      <th>0</th>\n",
       "      <td>1</td>\n",
       "      <td>3623</td>\n",
       "      <td>504</td>\n",
       "    </tr>\n",
       "    <tr>\n",
       "      <th>1</th>\n",
       "      <td>5</td>\n",
       "      <td>2068</td>\n",
       "      <td>558</td>\n",
       "    </tr>\n",
       "    <tr>\n",
       "      <th>2</th>\n",
       "      <td>6</td>\n",
       "      <td>1762</td>\n",
       "      <td>429</td>\n",
       "    </tr>\n",
       "    <tr>\n",
       "      <th>3</th>\n",
       "      <td>4</td>\n",
       "      <td>1160</td>\n",
       "      <td>225</td>\n",
       "    </tr>\n",
       "    <tr>\n",
       "      <th>4</th>\n",
       "      <td>7</td>\n",
       "      <td>738</td>\n",
       "      <td>156</td>\n",
       "    </tr>\n",
       "    <tr>\n",
       "      <th>5</th>\n",
       "      <td>3</td>\n",
       "      <td>349</td>\n",
       "      <td>75</td>\n",
       "    </tr>\n",
       "    <tr>\n",
       "      <th>6</th>\n",
       "      <td>8</td>\n",
       "      <td>197</td>\n",
       "      <td>49</td>\n",
       "    </tr>\n",
       "    <tr>\n",
       "      <th>7</th>\n",
       "      <td>2</td>\n",
       "      <td>69</td>\n",
       "      <td>22</td>\n",
       "    </tr>\n",
       "    <tr>\n",
       "      <th>8</th>\n",
       "      <td>9</td>\n",
       "      <td>32</td>\n",
       "      <td>17</td>\n",
       "    </tr>\n",
       "    <tr>\n",
       "      <th>9</th>\n",
       "      <td>10</td>\n",
       "      <td>2</td>\n",
       "      <td>2</td>\n",
       "    </tr>\n",
       "  </tbody>\n",
       "</table>\n",
       "</div>"
      ],
      "text/plain": [
       "   round_balance  count_x  count_y\n",
       "0              1     3623      504\n",
       "1              5     2068      558\n",
       "2              6     1762      429\n",
       "3              4     1160      225\n",
       "4              7      738      156\n",
       "5              3      349       75\n",
       "6              8      197       49\n",
       "7              2       69       22\n",
       "8              9       32       17\n",
       "9             10        2        2"
      ]
     },
     "execution_count": 66,
     "metadata": {},
     "output_type": "execute_result"
    }
   ],
   "source": [
    "balances"
   ]
  },
  {
   "cell_type": "code",
   "execution_count": 67,
   "id": "7f3417fd",
   "metadata": {},
   "outputs": [],
   "source": [
    "# ratio : \n",
    "balances = balances.values\n",
    "balance_ratios = []\n",
    "for i in range(len(balances)) : \n",
    "    x = balances[i][2]\n",
    "    y = balances[i][1]\n",
    "    ratio = x/y\n",
    "    balance_ratios.append([balances[i][0],ratio])\n",
    "    \n",
    "\n"
   ]
  },
  {
   "cell_type": "code",
   "execution_count": 68,
   "id": "dcfa4418",
   "metadata": {},
   "outputs": [],
   "source": [
    "balances = pd.DataFrame(balance_ratios,columns=['round_balance','ratio']).reset_index().sort_values('ratio',ascending=False)"
   ]
  },
  {
   "cell_type": "code",
   "execution_count": 69,
   "id": "811c306c",
   "metadata": {},
   "outputs": [
    {
     "data": {
      "text/html": [
       "<div>\n",
       "<style scoped>\n",
       "    .dataframe tbody tr th:only-of-type {\n",
       "        vertical-align: middle;\n",
       "    }\n",
       "\n",
       "    .dataframe tbody tr th {\n",
       "        vertical-align: top;\n",
       "    }\n",
       "\n",
       "    .dataframe thead th {\n",
       "        text-align: right;\n",
       "    }\n",
       "</style>\n",
       "<table border=\"1\" class=\"dataframe\">\n",
       "  <thead>\n",
       "    <tr style=\"text-align: right;\">\n",
       "      <th></th>\n",
       "      <th>index</th>\n",
       "      <th>round_balance</th>\n",
       "      <th>ratio</th>\n",
       "    </tr>\n",
       "  </thead>\n",
       "  <tbody>\n",
       "    <tr>\n",
       "      <th>9</th>\n",
       "      <td>9</td>\n",
       "      <td>10</td>\n",
       "      <td>1.000</td>\n",
       "    </tr>\n",
       "    <tr>\n",
       "      <th>8</th>\n",
       "      <td>8</td>\n",
       "      <td>9</td>\n",
       "      <td>0.531</td>\n",
       "    </tr>\n",
       "    <tr>\n",
       "      <th>7</th>\n",
       "      <td>7</td>\n",
       "      <td>2</td>\n",
       "      <td>0.319</td>\n",
       "    </tr>\n",
       "    <tr>\n",
       "      <th>1</th>\n",
       "      <td>1</td>\n",
       "      <td>5</td>\n",
       "      <td>0.270</td>\n",
       "    </tr>\n",
       "    <tr>\n",
       "      <th>6</th>\n",
       "      <td>6</td>\n",
       "      <td>8</td>\n",
       "      <td>0.249</td>\n",
       "    </tr>\n",
       "    <tr>\n",
       "      <th>2</th>\n",
       "      <td>2</td>\n",
       "      <td>6</td>\n",
       "      <td>0.243</td>\n",
       "    </tr>\n",
       "    <tr>\n",
       "      <th>5</th>\n",
       "      <td>5</td>\n",
       "      <td>3</td>\n",
       "      <td>0.215</td>\n",
       "    </tr>\n",
       "    <tr>\n",
       "      <th>4</th>\n",
       "      <td>4</td>\n",
       "      <td>7</td>\n",
       "      <td>0.211</td>\n",
       "    </tr>\n",
       "    <tr>\n",
       "      <th>3</th>\n",
       "      <td>3</td>\n",
       "      <td>4</td>\n",
       "      <td>0.194</td>\n",
       "    </tr>\n",
       "    <tr>\n",
       "      <th>0</th>\n",
       "      <td>0</td>\n",
       "      <td>1</td>\n",
       "      <td>0.139</td>\n",
       "    </tr>\n",
       "  </tbody>\n",
       "</table>\n",
       "</div>"
      ],
      "text/plain": [
       "   index  round_balance  ratio\n",
       "9      9             10  1.000\n",
       "8      8              9  0.531\n",
       "7      7              2  0.319\n",
       "1      1              5  0.270\n",
       "6      6              8  0.249\n",
       "2      2              6  0.243\n",
       "5      5              3  0.215\n",
       "4      4              7  0.211\n",
       "3      3              4  0.194\n",
       "0      0              1  0.139"
      ]
     },
     "execution_count": 69,
     "metadata": {},
     "output_type": "execute_result"
    }
   ],
   "source": [
    "balances"
   ]
  },
  {
   "cell_type": "code",
   "execution_count": 70,
   "id": "45d8306b",
   "metadata": {},
   "outputs": [
    {
     "data": {
      "image/png": "[encoded data removed]",
      "text/plain": [
       "<Figure size 500x500 with 1 Axes>"
      ]
     },
     "metadata": {},
     "output_type": "display_data"
    }
   ],
   "source": [
    "\n",
    "plt.figure(figsize=(5,5))\n",
    "plt.bar(balances['round_balance'],balances['ratio'],color=['k','k','k','r','r','r','r','r','c','c','c'])\n",
    "plt.title('exiting ratio by balance amount in bins of 25k ')\n",
    "plt.xticks(balances['round_balance'])\n",
    "plt.xlabel('balace amount ')\n",
    "plt.ylabel('ratio')\n",
    "plt.savefig('balance.png')\n",
    "plt.show()"
   ]
  },
  {
   "cell_type": "code",
   "execution_count": 71,
   "id": "1d7bdccd",
   "metadata": {},
   "outputs": [
    {
     "data": {
      "text/plain": [
       "round_balance\n",
       "1     3623\n",
       "5     2068\n",
       "6     1762\n",
       "4     1160\n",
       "7      738\n",
       "3      349\n",
       "8      197\n",
       "2       69\n",
       "9       32\n",
       "10       2\n",
       "Name: count, dtype: int64"
      ]
     },
     "execution_count": 71,
     "metadata": {},
     "output_type": "execute_result"
    }
   ],
   "source": [
    "df.round_balance.value_counts()"
   ]
  },
  {
   "cell_type": "markdown",
   "id": "f5aba8d9",
   "metadata": {},
   "source": [
    "### what we can see here is that except for balance near zero the other balance data are distributed in a curved shape and we only have two persons with balance bigger or equal to 225000 who both left but we cant make a conclusion about that threshold because they are only two"
   ]
  },
  {
   "cell_type": "markdown",
   "id": "8bc471ba",
   "metadata": {},
   "source": [
    "### beside that, what we can say is that people with balance >= 150000  and people with balance between 25000-50000 tend to exit with the higher rate "
   ]
  },
  {
   "cell_type": "code",
   "execution_count": null,
   "id": "24cca55e",
   "metadata": {},
   "outputs": [],
   "source": []
  },
  {
   "cell_type": "code",
   "execution_count": null,
   "id": "9202213f",
   "metadata": {},
   "outputs": [],
   "source": []
  },
  {
   "cell_type": "markdown",
   "id": "0a7b5d11",
   "metadata": {},
   "source": [
    "##  geography"
   ]
  },
  {
   "cell_type": "code",
   "execution_count": 72,
   "id": "1d0243f0",
   "metadata": {},
   "outputs": [],
   "source": [
    "geo = pd.crosstab(df.geography,df.exited,margins=True)"
   ]
  },
  {
   "cell_type": "code",
   "execution_count": 73,
   "id": "2fea3fc8",
   "metadata": {},
   "outputs": [
    {
     "data": {
      "text/html": [
       "<div>\n",
       "<style scoped>\n",
       "    .dataframe tbody tr th:only-of-type {\n",
       "        vertical-align: middle;\n",
       "    }\n",
       "\n",
       "    .dataframe tbody tr th {\n",
       "        vertical-align: top;\n",
       "    }\n",
       "\n",
       "    .dataframe thead th {\n",
       "        text-align: right;\n",
       "    }\n",
       "</style>\n",
       "<table border=\"1\" class=\"dataframe\">\n",
       "  <thead>\n",
       "    <tr style=\"text-align: right;\">\n",
       "      <th>exited</th>\n",
       "      <th>0</th>\n",
       "      <th>1</th>\n",
       "      <th>All</th>\n",
       "    </tr>\n",
       "    <tr>\n",
       "      <th>geography</th>\n",
       "      <th></th>\n",
       "      <th></th>\n",
       "      <th></th>\n",
       "    </tr>\n",
       "  </thead>\n",
       "  <tbody>\n",
       "    <tr>\n",
       "      <th>France</th>\n",
       "      <td>4204</td>\n",
       "      <td>810</td>\n",
       "      <td>5014</td>\n",
       "    </tr>\n",
       "    <tr>\n",
       "      <th>Germany</th>\n",
       "      <td>1695</td>\n",
       "      <td>814</td>\n",
       "      <td>2509</td>\n",
       "    </tr>\n",
       "    <tr>\n",
       "      <th>Spain</th>\n",
       "      <td>2064</td>\n",
       "      <td>413</td>\n",
       "      <td>2477</td>\n",
       "    </tr>\n",
       "    <tr>\n",
       "      <th>All</th>\n",
       "      <td>7963</td>\n",
       "      <td>2037</td>\n",
       "      <td>10000</td>\n",
       "    </tr>\n",
       "  </tbody>\n",
       "</table>\n",
       "</div>"
      ],
      "text/plain": [
       "exited        0     1    All\n",
       "geography                   \n",
       "France     4204   810   5014\n",
       "Germany    1695   814   2509\n",
       "Spain      2064   413   2477\n",
       "All        7963  2037  10000"
      ]
     },
     "execution_count": 73,
     "metadata": {},
     "output_type": "execute_result"
    }
   ],
   "source": [
    "geo"
   ]
  },
  {
   "cell_type": "code",
   "execution_count": 74,
   "id": "172789c3",
   "metadata": {},
   "outputs": [
    {
     "data": {
      "text/plain": [
       "array([810, 814, 413], dtype=int64)"
      ]
     },
     "execution_count": 74,
     "metadata": {},
     "output_type": "execute_result"
    }
   ],
   "source": [
    "lefted = geo[1].values[:-1]\n",
    "lefted"
   ]
  },
  {
   "cell_type": "code",
   "execution_count": 75,
   "id": "725cbe24",
   "metadata": {},
   "outputs": [
    {
     "data": {
      "text/plain": [
       "array([5014, 2509, 2477], dtype=int64)"
      ]
     },
     "execution_count": 75,
     "metadata": {},
     "output_type": "execute_result"
    }
   ],
   "source": [
    "total = geo.values[:,-1][:-1]\n",
    "total"
   ]
  },
  {
   "cell_type": "code",
   "execution_count": 76,
   "id": "c5cd2cce",
   "metadata": {},
   "outputs": [
    {
     "data": {
      "text/plain": [
       "Index(['France', 'Germany', 'Spain'], dtype='object', name='geography')"
      ]
     },
     "execution_count": 76,
     "metadata": {},
     "output_type": "execute_result"
    }
   ],
   "source": [
    "cntrs = geo.index[:-1]\n",
    "cntrs"
   ]
  },
  {
   "cell_type": "code",
   "execution_count": 77,
   "id": "6d5d3954",
   "metadata": {},
   "outputs": [
    {
     "data": {
      "text/plain": [
       "[[0.16154766653370561, 'France'],\n",
       " [0.32443204463929853, 'Germany'],\n",
       " [0.1667339523617279, 'Spain']]"
      ]
     },
     "execution_count": 77,
     "metadata": {},
     "output_type": "execute_result"
    }
   ],
   "source": [
    "ratios = []\n",
    "\n",
    "for i in range(len(total)):\n",
    "    ratio = lefted[i]/total[i]\n",
    "    ratios.append([ratio,cntrs[i]])\n",
    "ratios"
   ]
  },
  {
   "cell_type": "code",
   "execution_count": 78,
   "id": "edc65625",
   "metadata": {},
   "outputs": [],
   "source": [
    "ratios = pd.DataFrame(ratios,columns=['ratio','cntry'])"
   ]
  },
  {
   "cell_type": "code",
   "execution_count": 79,
   "id": "f17a124e",
   "metadata": {},
   "outputs": [
    {
     "data": {
      "text/html": [
       "<div>\n",
       "<style scoped>\n",
       "    .dataframe tbody tr th:only-of-type {\n",
       "        vertical-align: middle;\n",
       "    }\n",
       "\n",
       "    .dataframe tbody tr th {\n",
       "        vertical-align: top;\n",
       "    }\n",
       "\n",
       "    .dataframe thead th {\n",
       "        text-align: right;\n",
       "    }\n",
       "</style>\n",
       "<table border=\"1\" class=\"dataframe\">\n",
       "  <thead>\n",
       "    <tr style=\"text-align: right;\">\n",
       "      <th></th>\n",
       "      <th>ratio</th>\n",
       "      <th>cntry</th>\n",
       "    </tr>\n",
       "  </thead>\n",
       "  <tbody>\n",
       "    <tr>\n",
       "      <th>0</th>\n",
       "      <td>0.162</td>\n",
       "      <td>France</td>\n",
       "    </tr>\n",
       "    <tr>\n",
       "      <th>1</th>\n",
       "      <td>0.324</td>\n",
       "      <td>Germany</td>\n",
       "    </tr>\n",
       "    <tr>\n",
       "      <th>2</th>\n",
       "      <td>0.167</td>\n",
       "      <td>Spain</td>\n",
       "    </tr>\n",
       "  </tbody>\n",
       "</table>\n",
       "</div>"
      ],
      "text/plain": [
       "   ratio    cntry\n",
       "0  0.162   France\n",
       "1  0.324  Germany\n",
       "2  0.167    Spain"
      ]
     },
     "execution_count": 79,
     "metadata": {},
     "output_type": "execute_result"
    }
   ],
   "source": [
    "ratios"
   ]
  },
  {
   "cell_type": "code",
   "execution_count": 80,
   "id": "3d6eeac0",
   "metadata": {},
   "outputs": [
    {
     "data": {
      "image/png": "[encoded data removed]",
      "text/plain": [
       "<Figure size 500x500 with 1 Axes>"
      ]
     },
     "metadata": {},
     "output_type": "display_data"
    }
   ],
   "source": [
    "\n",
    "plt.figure(figsize=(5,5))\n",
    "plt.bar(ratios['cntry'],ratios['ratio'],color=['b','k','b'])\n",
    "plt.title('exiting ratio by Country ')\n",
    "plt.xticks(ratios['cntry'])\n",
    "plt.xlabel('Country Name')\n",
    "plt.ylabel('ratio')\n",
    "plt.savefig('country.png')\n",
    "plt.show()"
   ]
  },
  {
   "cell_type": "markdown",
   "id": "32e2c516",
   "metadata": {},
   "source": [
    "### here , we can see that people from germany tend to leave more with the higher exiting ratio equal to 32%"
   ]
  },
  {
   "cell_type": "code",
   "execution_count": null,
   "id": "c053767d",
   "metadata": {},
   "outputs": [],
   "source": []
  },
  {
   "cell_type": "code",
   "execution_count": null,
   "id": "bc0366ce",
   "metadata": {},
   "outputs": [],
   "source": []
  },
  {
   "cell_type": "markdown",
   "id": "05b89db9",
   "metadata": {},
   "source": [
    "\n",
    "##  credit score "
   ]
  },
  {
   "cell_type": "code",
   "execution_count": 81,
   "id": "7834c5d9",
   "metadata": {},
   "outputs": [
    {
     "name": "stdout",
     "output_type": "stream",
     "text": [
      " credit score have 460 unique values , 350 , min value and 850 value\n"
     ]
    }
   ],
   "source": [
    "print(f' credit score have {df.creditscore.nunique()} unique values , {df.creditscore.min()} , min value and {df.creditscore.max()} value')"
   ]
  },
  {
   "cell_type": "markdown",
   "id": "1020a58d",
   "metadata": {},
   "source": [
    "#### so we will split the in bins of 100"
   ]
  },
  {
   "cell_type": "code",
   "execution_count": 82,
   "id": "10d48e08",
   "metadata": {},
   "outputs": [],
   "source": [
    "\n",
    "credit = df.creditscore.values\n",
    "\n",
    "new_credit  = []\n",
    "for i in range(len(credit)):\n",
    "    if credit[i] >= 350 and credit[i] < 450:\n",
    "        x = 1\n",
    "    elif credit[i] >= 450 and credit[i] <550:\n",
    "        x = 2\n",
    "    elif credit[i] >= 550 and credit[i] < 650:\n",
    "        x = 3\n",
    "    elif credit[i] >= 650 and credit[i] < 750:\n",
    "        x = 4\n",
    "    else:\n",
    "        x = 5\n",
    "    new_credit.append(x)"
   ]
  },
  {
   "cell_type": "code",
   "execution_count": 83,
   "id": "71a135b5",
   "metadata": {},
   "outputs": [],
   "source": [
    "df['new_credit'] = new_credit\n",
    "\n",
    "x = df.new_credit.value_counts()\n",
    "y = df.loc[df['exited'] == 1,['new_credit']].value_counts().reset_index()\n",
    "credits = pd.merge(x,y,on='new_credit')"
   ]
  },
  {
   "cell_type": "code",
   "execution_count": 84,
   "id": "8235699e",
   "metadata": {},
   "outputs": [
    {
     "data": {
      "text/html": [
       "<div>\n",
       "<style scoped>\n",
       "    .dataframe tbody tr th:only-of-type {\n",
       "        vertical-align: middle;\n",
       "    }\n",
       "\n",
       "    .dataframe tbody tr th {\n",
       "        vertical-align: top;\n",
       "    }\n",
       "\n",
       "    .dataframe thead th {\n",
       "        text-align: right;\n",
       "    }\n",
       "</style>\n",
       "<table border=\"1\" class=\"dataframe\">\n",
       "  <thead>\n",
       "    <tr style=\"text-align: right;\">\n",
       "      <th></th>\n",
       "      <th>new_credit</th>\n",
       "      <th>count_x</th>\n",
       "      <th>count_y</th>\n",
       "    </tr>\n",
       "  </thead>\n",
       "  <tbody>\n",
       "    <tr>\n",
       "      <th>0</th>\n",
       "      <td>4</td>\n",
       "      <td>3477</td>\n",
       "      <td>667</td>\n",
       "    </tr>\n",
       "    <tr>\n",
       "      <th>1</th>\n",
       "      <td>3</td>\n",
       "      <td>3310</td>\n",
       "      <td>688</td>\n",
       "    </tr>\n",
       "    <tr>\n",
       "      <th>2</th>\n",
       "      <td>5</td>\n",
       "      <td>1623</td>\n",
       "      <td>321</td>\n",
       "    </tr>\n",
       "    <tr>\n",
       "      <th>3</th>\n",
       "      <td>2</td>\n",
       "      <td>1405</td>\n",
       "      <td>300</td>\n",
       "    </tr>\n",
       "    <tr>\n",
       "      <th>4</th>\n",
       "      <td>1</td>\n",
       "      <td>185</td>\n",
       "      <td>61</td>\n",
       "    </tr>\n",
       "  </tbody>\n",
       "</table>\n",
       "</div>"
      ],
      "text/plain": [
       "   new_credit  count_x  count_y\n",
       "0           4     3477      667\n",
       "1           3     3310      688\n",
       "2           5     1623      321\n",
       "3           2     1405      300\n",
       "4           1      185       61"
      ]
     },
     "execution_count": 84,
     "metadata": {},
     "output_type": "execute_result"
    }
   ],
   "source": [
    "credits"
   ]
  },
  {
   "cell_type": "code",
   "execution_count": 85,
   "id": "cd9fc0c0",
   "metadata": {},
   "outputs": [],
   "source": [
    "# ratio : \n",
    "credits = credits.values\n",
    "credits_ratios = []\n",
    "for i in range(len(credits)) : \n",
    "    x = credits[i][2]\n",
    "    y = credits[i][1]\n",
    "    ratio = x/y\n",
    "    credits_ratios.append([credits[i][0],ratio])\n",
    "    \n",
    "\n",
    "credits = pd.DataFrame(credits_ratios,columns=['credits','ratio']).reset_index().sort_values('ratio',ascending=False)"
   ]
  },
  {
   "cell_type": "code",
   "execution_count": 86,
   "id": "8c3d4e54",
   "metadata": {},
   "outputs": [
    {
     "data": {
      "text/html": [
       "<div>\n",
       "<style scoped>\n",
       "    .dataframe tbody tr th:only-of-type {\n",
       "        vertical-align: middle;\n",
       "    }\n",
       "\n",
       "    .dataframe tbody tr th {\n",
       "        vertical-align: top;\n",
       "    }\n",
       "\n",
       "    .dataframe thead th {\n",
       "        text-align: right;\n",
       "    }\n",
       "</style>\n",
       "<table border=\"1\" class=\"dataframe\">\n",
       "  <thead>\n",
       "    <tr style=\"text-align: right;\">\n",
       "      <th></th>\n",
       "      <th>index</th>\n",
       "      <th>credits</th>\n",
       "      <th>ratio</th>\n",
       "    </tr>\n",
       "  </thead>\n",
       "  <tbody>\n",
       "    <tr>\n",
       "      <th>4</th>\n",
       "      <td>4</td>\n",
       "      <td>1</td>\n",
       "      <td>0.330</td>\n",
       "    </tr>\n",
       "    <tr>\n",
       "      <th>3</th>\n",
       "      <td>3</td>\n",
       "      <td>2</td>\n",
       "      <td>0.214</td>\n",
       "    </tr>\n",
       "    <tr>\n",
       "      <th>1</th>\n",
       "      <td>1</td>\n",
       "      <td>3</td>\n",
       "      <td>0.208</td>\n",
       "    </tr>\n",
       "    <tr>\n",
       "      <th>2</th>\n",
       "      <td>2</td>\n",
       "      <td>5</td>\n",
       "      <td>0.198</td>\n",
       "    </tr>\n",
       "    <tr>\n",
       "      <th>0</th>\n",
       "      <td>0</td>\n",
       "      <td>4</td>\n",
       "      <td>0.192</td>\n",
       "    </tr>\n",
       "  </tbody>\n",
       "</table>\n",
       "</div>"
      ],
      "text/plain": [
       "   index  credits  ratio\n",
       "4      4        1  0.330\n",
       "3      3        2  0.214\n",
       "1      1        3  0.208\n",
       "2      2        5  0.198\n",
       "0      0        4  0.192"
      ]
     },
     "execution_count": 86,
     "metadata": {},
     "output_type": "execute_result"
    }
   ],
   "source": [
    "credits"
   ]
  },
  {
   "cell_type": "code",
   "execution_count": 87,
   "id": "9e988b15",
   "metadata": {},
   "outputs": [
    {
     "data": {
      "image/png": "[encoded data removed]",
      "text/plain": [
       "<Figure size 500x500 with 1 Axes>"
      ]
     },
     "metadata": {},
     "output_type": "display_data"
    }
   ],
   "source": [
    "\n",
    "plt.figure(figsize=(5,5))\n",
    "plt.bar(credits['credits'],credits['ratio'],color=['k','k','k','r','r'])\n",
    "plt.title('exiting ratio credit score in bins of 100 starting from 350 ')\n",
    "plt.xticks(credits['credits'])\n",
    "plt.xlabel('credits amount ')\n",
    "plt.ylabel('ratio')\n",
    "plt.savefig('credits.png')\n",
    "plt.show()"
   ]
  },
  {
   "cell_type": "markdown",
   "id": "2b181887",
   "metadata": {},
   "source": [
    "### here we can say that the lower the credit score the more likely is somoane to exit and people with credit score close to 350-450 tend to exit more with an exit ratio of 0.32"
   ]
  },
  {
   "cell_type": "code",
   "execution_count": null,
   "id": "9f627200",
   "metadata": {},
   "outputs": [],
   "source": []
  },
  {
   "cell_type": "code",
   "execution_count": null,
   "id": "7b920f0f",
   "metadata": {},
   "outputs": [],
   "source": []
  },
  {
   "cell_type": "markdown",
   "id": "f30f8abe",
   "metadata": {},
   "source": [
    "## number of products "
   ]
  },
  {
   "cell_type": "code",
   "execution_count": 88,
   "id": "106f6dba",
   "metadata": {},
   "outputs": [
    {
     "name": "stdout",
     "output_type": "stream",
     "text": [
      " credit score have 4 unique values , 1  min value and 4  max value\n"
     ]
    }
   ],
   "source": [
    "print(f' credit score have {df.numofproducts.nunique()} unique values , {df.numofproducts.min()}  min value and {df.numofproducts.max()}  max value')"
   ]
  },
  {
   "cell_type": "code",
   "execution_count": 89,
   "id": "7cff02a3",
   "metadata": {},
   "outputs": [],
   "source": [
    "products = pd.crosstab(df.numofproducts,df.exited,margins=True)"
   ]
  },
  {
   "cell_type": "code",
   "execution_count": 90,
   "id": "b1893061",
   "metadata": {},
   "outputs": [
    {
     "data": {
      "text/html": [
       "<div>\n",
       "<style scoped>\n",
       "    .dataframe tbody tr th:only-of-type {\n",
       "        vertical-align: middle;\n",
       "    }\n",
       "\n",
       "    .dataframe tbody tr th {\n",
       "        vertical-align: top;\n",
       "    }\n",
       "\n",
       "    .dataframe thead th {\n",
       "        text-align: right;\n",
       "    }\n",
       "</style>\n",
       "<table border=\"1\" class=\"dataframe\">\n",
       "  <thead>\n",
       "    <tr style=\"text-align: right;\">\n",
       "      <th>exited</th>\n",
       "      <th>0</th>\n",
       "      <th>1</th>\n",
       "      <th>All</th>\n",
       "    </tr>\n",
       "    <tr>\n",
       "      <th>numofproducts</th>\n",
       "      <th></th>\n",
       "      <th></th>\n",
       "      <th></th>\n",
       "    </tr>\n",
       "  </thead>\n",
       "  <tbody>\n",
       "    <tr>\n",
       "      <th>1</th>\n",
       "      <td>3675</td>\n",
       "      <td>1409</td>\n",
       "      <td>5084</td>\n",
       "    </tr>\n",
       "    <tr>\n",
       "      <th>2</th>\n",
       "      <td>4242</td>\n",
       "      <td>348</td>\n",
       "      <td>4590</td>\n",
       "    </tr>\n",
       "    <tr>\n",
       "      <th>3</th>\n",
       "      <td>46</td>\n",
       "      <td>220</td>\n",
       "      <td>266</td>\n",
       "    </tr>\n",
       "    <tr>\n",
       "      <th>4</th>\n",
       "      <td>0</td>\n",
       "      <td>60</td>\n",
       "      <td>60</td>\n",
       "    </tr>\n",
       "    <tr>\n",
       "      <th>All</th>\n",
       "      <td>7963</td>\n",
       "      <td>2037</td>\n",
       "      <td>10000</td>\n",
       "    </tr>\n",
       "  </tbody>\n",
       "</table>\n",
       "</div>"
      ],
      "text/plain": [
       "exited            0     1    All\n",
       "numofproducts                   \n",
       "1              3675  1409   5084\n",
       "2              4242   348   4590\n",
       "3                46   220    266\n",
       "4                 0    60     60\n",
       "All            7963  2037  10000"
      ]
     },
     "execution_count": 90,
     "metadata": {},
     "output_type": "execute_result"
    }
   ],
   "source": [
    "products"
   ]
  },
  {
   "cell_type": "code",
   "execution_count": 91,
   "id": "2d212314",
   "metadata": {},
   "outputs": [],
   "source": [
    "\n",
    "lefted = products[1].values[:-1]\n",
    "total = products.values[:,-1][:-1]\n",
    "num_ = products.index[:-1]\n"
   ]
  },
  {
   "cell_type": "code",
   "execution_count": 92,
   "id": "4354c013",
   "metadata": {},
   "outputs": [],
   "source": [
    "ratios = []\n",
    "nums = []\n",
    "\n",
    "for i in range(len(total)):\n",
    "    ratio = lefted[i]/total[i]\n",
    "    ratios.append(ratio)\n",
    "    nums.append(num_[i])\n",
    "ratios = pd.DataFrame({'ratio':ratios,'number':nums})"
   ]
  },
  {
   "cell_type": "code",
   "execution_count": 93,
   "id": "116576c4",
   "metadata": {},
   "outputs": [
    {
     "data": {
      "text/html": [
       "<div>\n",
       "<style scoped>\n",
       "    .dataframe tbody tr th:only-of-type {\n",
       "        vertical-align: middle;\n",
       "    }\n",
       "\n",
       "    .dataframe tbody tr th {\n",
       "        vertical-align: top;\n",
       "    }\n",
       "\n",
       "    .dataframe thead th {\n",
       "        text-align: right;\n",
       "    }\n",
       "</style>\n",
       "<table border=\"1\" class=\"dataframe\">\n",
       "  <thead>\n",
       "    <tr style=\"text-align: right;\">\n",
       "      <th></th>\n",
       "      <th>ratio</th>\n",
       "      <th>number</th>\n",
       "    </tr>\n",
       "  </thead>\n",
       "  <tbody>\n",
       "    <tr>\n",
       "      <th>0</th>\n",
       "      <td>0.277</td>\n",
       "      <td>1</td>\n",
       "    </tr>\n",
       "    <tr>\n",
       "      <th>1</th>\n",
       "      <td>0.076</td>\n",
       "      <td>2</td>\n",
       "    </tr>\n",
       "    <tr>\n",
       "      <th>2</th>\n",
       "      <td>0.827</td>\n",
       "      <td>3</td>\n",
       "    </tr>\n",
       "    <tr>\n",
       "      <th>3</th>\n",
       "      <td>1.000</td>\n",
       "      <td>4</td>\n",
       "    </tr>\n",
       "  </tbody>\n",
       "</table>\n",
       "</div>"
      ],
      "text/plain": [
       "   ratio  number\n",
       "0  0.277       1\n",
       "1  0.076       2\n",
       "2  0.827       3\n",
       "3  1.000       4"
      ]
     },
     "execution_count": 93,
     "metadata": {},
     "output_type": "execute_result"
    }
   ],
   "source": [
    "ratios"
   ]
  },
  {
   "cell_type": "code",
   "execution_count": 94,
   "id": "d4e4bf06",
   "metadata": {},
   "outputs": [
    {
     "data": {
      "image/png": "[encoded data removed]",
      "text/plain": [
       "<Figure size 500x500 with 1 Axes>"
      ]
     },
     "metadata": {},
     "output_type": "display_data"
    }
   ],
   "source": [
    "plt.figure(figsize=(5,5))\n",
    "plt.bar(ratios['number'],ratios['ratio'],color=['k','r','k','k'])\n",
    "plt.title('exiting ratio on number of products')\n",
    "plt.xticks(ratios['number'])\n",
    "plt.xlabel('number of products  ')\n",
    "plt.ylabel('ratio')\n",
    "plt.savefig('products.png')\n",
    "plt.show()"
   ]
  },
  {
   "cell_type": "markdown",
   "id": "d26d1a2d",
   "metadata": {},
   "source": [
    "### here we can see that all 40 people with 4 products exitited, people with 3 products have a high exiting ratio  = 0.82 and also people with one product tend to leave with ratio .27"
   ]
  },
  {
   "cell_type": "code",
   "execution_count": null,
   "id": "d24c35e8",
   "metadata": {},
   "outputs": [],
   "source": []
  },
  {
   "cell_type": "code",
   "execution_count": null,
   "id": "fbaf54c3",
   "metadata": {},
   "outputs": [],
   "source": []
  },
  {
   "cell_type": "markdown",
   "id": "2c834b84",
   "metadata": {},
   "source": [
    "## is acive member "
   ]
  },
  {
   "cell_type": "code",
   "execution_count": 95,
   "id": "c52b0afa",
   "metadata": {},
   "outputs": [],
   "source": [
    "active  = pd.crosstab(df.isactivemember,df.exited,margins=True)"
   ]
  },
  {
   "cell_type": "code",
   "execution_count": 96,
   "id": "e6490e8e",
   "metadata": {},
   "outputs": [
    {
     "data": {
      "text/html": [
       "<div>\n",
       "<style scoped>\n",
       "    .dataframe tbody tr th:only-of-type {\n",
       "        vertical-align: middle;\n",
       "    }\n",
       "\n",
       "    .dataframe tbody tr th {\n",
       "        vertical-align: top;\n",
       "    }\n",
       "\n",
       "    .dataframe thead th {\n",
       "        text-align: right;\n",
       "    }\n",
       "</style>\n",
       "<table border=\"1\" class=\"dataframe\">\n",
       "  <thead>\n",
       "    <tr style=\"text-align: right;\">\n",
       "      <th>exited</th>\n",
       "      <th>0</th>\n",
       "      <th>1</th>\n",
       "      <th>All</th>\n",
       "    </tr>\n",
       "    <tr>\n",
       "      <th>isactivemember</th>\n",
       "      <th></th>\n",
       "      <th></th>\n",
       "      <th></th>\n",
       "    </tr>\n",
       "  </thead>\n",
       "  <tbody>\n",
       "    <tr>\n",
       "      <th>0</th>\n",
       "      <td>3547</td>\n",
       "      <td>1302</td>\n",
       "      <td>4849</td>\n",
       "    </tr>\n",
       "    <tr>\n",
       "      <th>1</th>\n",
       "      <td>4416</td>\n",
       "      <td>735</td>\n",
       "      <td>5151</td>\n",
       "    </tr>\n",
       "    <tr>\n",
       "      <th>All</th>\n",
       "      <td>7963</td>\n",
       "      <td>2037</td>\n",
       "      <td>10000</td>\n",
       "    </tr>\n",
       "  </tbody>\n",
       "</table>\n",
       "</div>"
      ],
      "text/plain": [
       "exited             0     1    All\n",
       "isactivemember                   \n",
       "0               3547  1302   4849\n",
       "1               4416   735   5151\n",
       "All             7963  2037  10000"
      ]
     },
     "execution_count": 96,
     "metadata": {},
     "output_type": "execute_result"
    }
   ],
   "source": [
    "active"
   ]
  },
  {
   "cell_type": "code",
   "execution_count": 97,
   "id": "e65e857e",
   "metadata": {},
   "outputs": [],
   "source": [
    "\n",
    "lefted = active[1].values[:-1]\n",
    "total = active.values[:,-1][:-1]\n",
    "active = active.index[:-1]\n"
   ]
  },
  {
   "cell_type": "code",
   "execution_count": 98,
   "id": "f13b45a7",
   "metadata": {},
   "outputs": [],
   "source": [
    "ratios = []\n",
    "actives = []\n",
    "\n",
    "for i in range(len(total)):\n",
    "    ratio = lefted[i]/total[i]\n",
    "    ratios.append(ratio)\n",
    "    actives.append(active[i])\n",
    "ratios = pd.DataFrame({'ratio':ratios,'actives':actives})"
   ]
  },
  {
   "cell_type": "code",
   "execution_count": 99,
   "id": "dc884c2a",
   "metadata": {},
   "outputs": [],
   "source": [
    "ratios['actives'].replace((0,1),('non_active','active'),inplace=True)"
   ]
  },
  {
   "cell_type": "code",
   "execution_count": 100,
   "id": "e8c79edb",
   "metadata": {},
   "outputs": [
    {
     "data": {
      "text/html": [
       "<div>\n",
       "<style scoped>\n",
       "    .dataframe tbody tr th:only-of-type {\n",
       "        vertical-align: middle;\n",
       "    }\n",
       "\n",
       "    .dataframe tbody tr th {\n",
       "        vertical-align: top;\n",
       "    }\n",
       "\n",
       "    .dataframe thead th {\n",
       "        text-align: right;\n",
       "    }\n",
       "</style>\n",
       "<table border=\"1\" class=\"dataframe\">\n",
       "  <thead>\n",
       "    <tr style=\"text-align: right;\">\n",
       "      <th></th>\n",
       "      <th>ratio</th>\n",
       "      <th>actives</th>\n",
       "    </tr>\n",
       "  </thead>\n",
       "  <tbody>\n",
       "    <tr>\n",
       "      <th>0</th>\n",
       "      <td>0.269</td>\n",
       "      <td>non_active</td>\n",
       "    </tr>\n",
       "    <tr>\n",
       "      <th>1</th>\n",
       "      <td>0.143</td>\n",
       "      <td>active</td>\n",
       "    </tr>\n",
       "  </tbody>\n",
       "</table>\n",
       "</div>"
      ],
      "text/plain": [
       "   ratio     actives\n",
       "0  0.269  non_active\n",
       "1  0.143      active"
      ]
     },
     "execution_count": 100,
     "metadata": {},
     "output_type": "execute_result"
    }
   ],
   "source": [
    "ratios"
   ]
  },
  {
   "cell_type": "code",
   "execution_count": 101,
   "id": "3f894dc2",
   "metadata": {},
   "outputs": [
    {
     "data": {
      "image/png": "[encoded data removed]",
      "text/plain": [
       "<Figure size 500x500 with 1 Axes>"
      ]
     },
     "metadata": {},
     "output_type": "display_data"
    }
   ],
   "source": [
    "plt.figure(figsize=(5,5))\n",
    "plt.bar(ratios['actives'],ratios['ratio'],color=['k','r'])\n",
    "plt.title('exiting ratio on is active or not')\n",
    "plt.xticks(ratios['actives'])\n",
    "plt.xlabel('active or not')\n",
    "plt.ylabel('ratio')\n",
    "plt.savefig('active.png')\n",
    "plt.show()"
   ]
  },
  {
   "cell_type": "markdown",
   "id": "8e7142c6",
   "metadata": {},
   "source": [
    "### non active mebers tend to exit more as expected with exiting rate of 0.26"
   ]
  },
  {
   "cell_type": "code",
   "execution_count": null,
   "id": "1dacec91",
   "metadata": {},
   "outputs": [],
   "source": []
  },
  {
   "cell_type": "markdown",
   "id": "69fb16ec",
   "metadata": {},
   "source": [
    "## now its time to make predictions but first, we have to prepare the data"
   ]
  },
  {
   "cell_type": "code",
   "execution_count": 102,
   "id": "003c0a59",
   "metadata": {},
   "outputs": [],
   "source": [
    "x = data.iloc[:,:-1]\n",
    "y = data.iloc[:,-1]"
   ]
  },
  {
   "cell_type": "code",
   "execution_count": null,
   "id": "26e7a294",
   "metadata": {},
   "outputs": [],
   "source": []
  },
  {
   "cell_type": "code",
   "execution_count": 103,
   "id": "f5b45f48",
   "metadata": {},
   "outputs": [],
   "source": [
    "from sklearn.model_selection import train_test_split"
   ]
  },
  {
   "cell_type": "code",
   "execution_count": 104,
   "id": "c22935a6",
   "metadata": {},
   "outputs": [],
   "source": [
    "x_train,x_test,y_train,y_test = train_test_split(x,y,test_size=0.2)"
   ]
  },
  {
   "cell_type": "code",
   "execution_count": 105,
   "id": "95dcd07e",
   "metadata": {},
   "outputs": [
    {
     "name": "stdout",
     "output_type": "stream",
     "text": [
      "(8000, 10) (2000, 10) (8000,) (2000,)\n"
     ]
    }
   ],
   "source": [
    "print(x_train.shape,x_test.shape,y_train.shape,y_test.shape)"
   ]
  },
  {
   "cell_type": "code",
   "execution_count": null,
   "id": "68c64331",
   "metadata": {},
   "outputs": [],
   "source": []
  },
  {
   "cell_type": "code",
   "execution_count": 106,
   "id": "c8d315cc",
   "metadata": {},
   "outputs": [],
   "source": [
    "# standardise the data\n",
    "\n",
    "from sklearn.preprocessing import StandardScaler as ss\n",
    "\n",
    "scaler = ss()\n",
    "x_train = scaler.fit_transform(x_train)\n",
    "x_test = scaler.transform(x_test)"
   ]
  },
  {
   "cell_type": "code",
   "execution_count": null,
   "id": "1aa6c7e2",
   "metadata": {},
   "outputs": [],
   "source": []
  },
  {
   "cell_type": "code",
   "execution_count": null,
   "id": "3ea260c8",
   "metadata": {},
   "outputs": [],
   "source": []
  },
  {
   "cell_type": "markdown",
   "id": "a67f5004",
   "metadata": {},
   "source": [
    "##  lets make a function for the metrics of each model \n"
   ]
  },
  {
   "cell_type": "code",
   "execution_count": 107,
   "id": "589371ae",
   "metadata": {},
   "outputs": [],
   "source": [
    "from sklearn.metrics import accuracy_score , f1_score , recall_score,precision_score,confusion_matrix \n",
    "history = []\n",
    "hist_df = []\n",
    "\n",
    "def metrics(estimator,pred,actual,hist = history,hist_df = hist_df):\n",
    "    new = []\n",
    "    n_df = []\n",
    "    \n",
    "    accuracy = accuracy_score(pred,actual)\n",
    "    f1 = f1_score(pred,actual)\n",
    "    recall = recall_score(pred,actual)\n",
    "    precision = precision_score(pred,actual) \n",
    "    \n",
    "    cm = confusion_matrix(pred,actual)\n",
    "    x = cm[0][0]\n",
    "    y =cm[1][0]\n",
    "    \n",
    "\n",
    "    \n",
    "    new.append(f'{estimator} have {accuracy} accuracy , {f1} f1 score , {recall} recall {precision} precision ')\n",
    "    print(new)\n",
    "    n_df.append((estimator,accuracy,f1,recall,precision))\n",
    "    history.append(new)\n",
    "    hist_df.append(n_df)\n",
    "\n",
    "    \n",
    "    \n",
    "    "
   ]
  },
  {
   "cell_type": "code",
   "execution_count": null,
   "id": "1646f449",
   "metadata": {},
   "outputs": [],
   "source": []
  },
  {
   "cell_type": "code",
   "execution_count": null,
   "id": "669f58d9",
   "metadata": {},
   "outputs": [],
   "source": []
  },
  {
   "cell_type": "markdown",
   "id": "cefc80c2",
   "metadata": {},
   "source": [
    "## a function for gridsearch cv to find the best parameters for each model"
   ]
  },
  {
   "cell_type": "code",
   "execution_count": 108,
   "id": "fd6dfc94",
   "metadata": {},
   "outputs": [],
   "source": [
    "from sklearn.model_selection import GridSearchCV\n",
    "\n",
    "def grid(parameters , estimator, x = x_train,y = y_train):\n",
    "    grid_s = GridSearchCV(estimator=estimator,param_grid=parameters,scoring='accuracy',cv=8,n_jobs=-1,refit=False)\n",
    "    grid_s.fit(x,y)\n",
    "    best_acc = grid_s.best_score_\n",
    "    best_params = grid_s.best_params_\n",
    "    print(f'best accuracy score  = {best_acc}')\n",
    "    print(f'best params = {best_params}')"
   ]
  },
  {
   "cell_type": "code",
   "execution_count": null,
   "id": "399cbdda",
   "metadata": {},
   "outputs": [],
   "source": []
  },
  {
   "cell_type": "code",
   "execution_count": 109,
   "id": "f4f16b5d",
   "metadata": {},
   "outputs": [],
   "source": [
    "#ignore warnings\n",
    "\n",
    "import warnings \n",
    "\n",
    "warnings.filterwarnings(\"ignore\")\n"
   ]
  },
  {
   "cell_type": "markdown",
   "id": "df4a657c",
   "metadata": {},
   "source": [
    "## DecisionTreeClassifier "
   ]
  },
  {
   "cell_type": "code",
   "execution_count": 110,
   "id": "61bb386b",
   "metadata": {},
   "outputs": [
    {
     "name": "stdout",
     "output_type": "stream",
     "text": [
      "best accuracy score  = 0.828375\n",
      "best params = {'criterion': 'gini', 'max_features': 'log2', 'min_samples_leaf': 4, 'min_samples_split': 2}\n"
     ]
    }
   ],
   "source": [
    "params = {'criterion':['gini','entropy','log_loss'],'max_features':['auto','sqrt','log2'],'min_samples_leaf':[1,2,3,4],'min_samples_split':[1,2,3,4]}\n",
    "\n",
    "\n",
    "from sklearn.tree import DecisionTreeClassifier \n",
    "tree = DecisionTreeClassifier()\n",
    "\n",
    "grid(params,tree)"
   ]
  },
  {
   "cell_type": "code",
   "execution_count": 111,
   "id": "2f991dd2",
   "metadata": {},
   "outputs": [
    {
     "data": {
      "text/html": [
       "<style>#sk-container-id-1 {color: black;}#sk-container-id-1 pre{padding: 0;}#sk-container-id-1 div.sk-toggleable {background-color: white;}#sk-container-id-1 label.sk-toggleable__label {cursor: pointer;display: block;width: 100%;margin-bottom: 0;padding: 0.3em;box-sizing: border-box;text-align: center;}#sk-container-id-1 label.sk-toggleable__label-arrow:before {content: \"▸\";float: left;margin-right: 0.25em;color: #696969;}#sk-container-id-1 label.sk-toggleable__label-arrow:hover:before {color: black;}#sk-container-id-1 div.sk-estimator:hover label.sk-toggleable__label-arrow:before {color: black;}#sk-container-id-1 div.sk-toggleable__content {max-height: 0;max-width: 0;overflow: hidden;text-align: left;background-color: #f0f8ff;}#sk-container-id-1 div.sk-toggleable__content pre {margin: 0.2em;color: black;border-radius: 0.25em;background-color: #f0f8ff;}#sk-container-id-1 input.sk-toggleable__control:checked~div.sk-toggleable__content {max-height: 200px;max-width: 100%;overflow: auto;}#sk-container-id-1 input.sk-toggleable__control:checked~label.sk-toggleable__label-arrow:before {content: \"▾\";}#sk-container-id-1 div.sk-estimator input.sk-toggleable__control:checked~label.sk-toggleable__label {background-color: #d4ebff;}#sk-container-id-1 div.sk-label input.sk-toggleable__control:checked~label.sk-toggleable__label {background-color: #d4ebff;}#sk-container-id-1 input.sk-hidden--visually {border: 0;clip: rect(1px 1px 1px 1px);clip: rect(1px, 1px, 1px, 1px);height: 1px;margin: -1px;overflow: hidden;padding: 0;position: absolute;width: 1px;}#sk-container-id-1 div.sk-estimator {font-family: monospace;background-color: #f0f8ff;border: 1px dotted black;border-radius: 0.25em;box-sizing: border-box;margin-bottom: 0.5em;}#sk-container-id-1 div.sk-estimator:hover {background-color: #d4ebff;}#sk-container-id-1 div.sk-parallel-item::after {content: \"\";width: 100%;border-bottom: 1px solid gray;flex-grow: 1;}#sk-container-id-1 div.sk-label:hover label.sk-toggleable__label {background-color: #d4ebff;}#sk-container-id-1 div.sk-serial::before {content: \"\";position: absolute;border-left: 1px solid gray;box-sizing: border-box;top: 0;bottom: 0;left: 50%;z-index: 0;}#sk-container-id-1 div.sk-serial {display: flex;flex-direction: column;align-items: center;background-color: white;padding-right: 0.2em;padding-left: 0.2em;position: relative;}#sk-container-id-1 div.sk-item {position: relative;z-index: 1;}#sk-container-id-1 div.sk-parallel {display: flex;align-items: stretch;justify-content: center;background-color: white;position: relative;}#sk-container-id-1 div.sk-item::before, #sk-container-id-1 div.sk-parallel-item::before {content: \"\";position: absolute;border-left: 1px solid gray;box-sizing: border-box;top: 0;bottom: 0;left: 50%;z-index: -1;}#sk-container-id-1 div.sk-parallel-item {display: flex;flex-direction: column;z-index: 1;position: relative;background-color: white;}#sk-container-id-1 div.sk-parallel-item:first-child::after {align-self: flex-end;width: 50%;}#sk-container-id-1 div.sk-parallel-item:last-child::after {align-self: flex-start;width: 50%;}#sk-container-id-1 div.sk-parallel-item:only-child::after {width: 0;}#sk-container-id-1 div.sk-dashed-wrapped {border: 1px dashed gray;margin: 0 0.4em 0.5em 0.4em;box-sizing: border-box;padding-bottom: 0.4em;background-color: white;}#sk-container-id-1 div.sk-label label {font-family: monospace;font-weight: bold;display: inline-block;line-height: 1.2em;}#sk-container-id-1 div.sk-label-container {text-align: center;}#sk-container-id-1 div.sk-container {/* jupyter's `normalize.less` sets `[hidden] { display: none; }` but bootstrap.min.css set `[hidden] { display: none !important; }` so we also need the `!important` here to be able to override the default hidden behavior on the sphinx rendered scikit-learn.org. See: https://github.com/scikit-learn/scikit-learn/issues/21755 */display: inline-block !important;position: relative;}#sk-container-id-1 div.sk-text-repr-fallback {display: none;}</style><div id=\"sk-container-id-1\" class=\"sk-top-container\"><div class=\"sk-text-repr-fallback\"><pre>DecisionTreeClassifier(criterion=&#x27;log_loss&#x27;, max_features=&#x27;log2&#x27;,\n",
       "                       min_samples_leaf=4, min_samples_split=4)</pre><b>In a Jupyter environment, please rerun this cell to show the HTML representation or trust the notebook. <br />On GitHub, the HTML representation is unable to render, please try loading this page with nbviewer.org.</b></div><div class=\"sk-container\" hidden><div class=\"sk-item\"><div class=\"sk-estimator sk-toggleable\"><input class=\"sk-toggleable__control sk-hidden--visually\" id=\"sk-estimator-id-1\" type=\"checkbox\" checked><label for=\"sk-estimator-id-1\" class=\"sk-toggleable__label sk-toggleable__label-arrow\">DecisionTreeClassifier</label><div class=\"sk-toggleable__content\"><pre>DecisionTreeClassifier(criterion=&#x27;log_loss&#x27;, max_features=&#x27;log2&#x27;,\n",
       "                       min_samples_leaf=4, min_samples_split=4)</pre></div></div></div></div></div>"
      ],
      "text/plain": [
       "DecisionTreeClassifier(criterion='log_loss', max_features='log2',\n",
       "                       min_samples_leaf=4, min_samples_split=4)"
      ]
     },
     "execution_count": 111,
     "metadata": {},
     "output_type": "execute_result"
    }
   ],
   "source": [
    "tree = DecisionTreeClassifier(criterion='log_loss', max_features='log2', min_samples_leaf=4, min_samples_split= 4)\n",
    "tree.fit(x_train,y_train)"
   ]
  },
  {
   "cell_type": "code",
   "execution_count": 112,
   "id": "dbed07cd",
   "metadata": {},
   "outputs": [
    {
     "name": "stdout",
     "output_type": "stream",
     "text": [
      "[\"DecisionTreeClassifier(criterion='log_loss', max_features='log2',\\n                       min_samples_leaf=4, min_samples_split=4) have 0.8085 accuracy , 0.48590604026845635 f1 score , 0.530791788856305 recall 0.44801980198019803 precision \"]\n"
     ]
    }
   ],
   "source": [
    "preds_tree = tree.predict(x_test)\n",
    "metrics(tree,preds_tree,y_test)"
   ]
  },
  {
   "cell_type": "code",
   "execution_count": null,
   "id": "15937664",
   "metadata": {},
   "outputs": [],
   "source": []
  },
  {
   "cell_type": "code",
   "execution_count": null,
   "id": "80663393",
   "metadata": {},
   "outputs": [],
   "source": []
  },
  {
   "cell_type": "markdown",
   "id": "7140b4cf",
   "metadata": {},
   "source": [
    "## NearestNeighbors"
   ]
  },
  {
   "cell_type": "code",
   "execution_count": 113,
   "id": "da72420b",
   "metadata": {},
   "outputs": [
    {
     "name": "stdout",
     "output_type": "stream",
     "text": [
      "best accuracy score  = 0.8382499999999999\n",
      "best params = {'algorithm': 'auto', 'n_neighbors': 7}\n"
     ]
    }
   ],
   "source": [
    "params = {'n_neighbors':[3,4,5,6,7],'algorithm':['auto','ball_tree','kd_tree','brute']}\n",
    "\n",
    "from sklearn.neighbors import KNeighborsClassifier\n",
    "neighbors = KNeighborsClassifier()\n",
    "\n",
    "grid(params,neighbors)"
   ]
  },
  {
   "cell_type": "code",
   "execution_count": 114,
   "id": "6276118a",
   "metadata": {},
   "outputs": [
    {
     "name": "stdout",
     "output_type": "stream",
     "text": [
      "['KNeighborsClassifier(n_neighbors=7) have 0.8265 accuracy , 0.4569640062597809 f1 score , 0.6212765957446809 recall 0.3613861386138614 precision ']\n"
     ]
    }
   ],
   "source": [
    "neighbors = KNeighborsClassifier(algorithm='auto',n_neighbors=7)\n",
    "neighbors.fit(x_train,y_train)\n",
    "neighbors_preds = neighbors.predict(x_test)\n",
    "metrics(neighbors,neighbors_preds,y_test)"
   ]
  },
  {
   "cell_type": "code",
   "execution_count": null,
   "id": "0e4a98e0",
   "metadata": {},
   "outputs": [],
   "source": []
  },
  {
   "cell_type": "code",
   "execution_count": null,
   "id": "31f7b313",
   "metadata": {},
   "outputs": [],
   "source": []
  },
  {
   "cell_type": "markdown",
   "id": "b93493a2",
   "metadata": {},
   "source": [
    "\n",
    "## RandomForestClassifier"
   ]
  },
  {
   "cell_type": "code",
   "execution_count": 115,
   "id": "280bd93e",
   "metadata": {},
   "outputs": [
    {
     "name": "stdout",
     "output_type": "stream",
     "text": [
      "best accuracy score  = 0.8625\n",
      "best params = {'criterion': 'gini', 'min_samples_split': 3, 'n_estimators': 100}\n"
     ]
    }
   ],
   "source": [
    "params = {'n_estimators':[50,100,150],'criterion':['gini','entropy','log_loss'],'min_samples_split':[1,2,3]}\n",
    "\n",
    "from sklearn.ensemble import RandomForestClassifier\n",
    "forest = RandomForestClassifier()\n",
    "\n",
    "grid(params,forest)"
   ]
  },
  {
   "cell_type": "code",
   "execution_count": 116,
   "id": "b5af5b74",
   "metadata": {},
   "outputs": [
    {
     "name": "stdout",
     "output_type": "stream",
     "text": [
      "['RandomForestClassifier() have 0.8265 accuracy , 0.4569640062597809 f1 score , 0.6212765957446809 recall 0.3613861386138614 precision ']\n"
     ]
    }
   ],
   "source": [
    "forest = RandomForestClassifier(criterion='gini',min_samples_split=2,n_estimators=100)\n",
    "forest.fit(x_train,y_train)\n",
    "forest_preds = neighbors.predict(x_test)\n",
    "metrics(forest,forest_preds,y_test)"
   ]
  },
  {
   "cell_type": "code",
   "execution_count": null,
   "id": "0031f170",
   "metadata": {},
   "outputs": [],
   "source": []
  },
  {
   "cell_type": "code",
   "execution_count": null,
   "id": "d901dfc1",
   "metadata": {},
   "outputs": [],
   "source": []
  },
  {
   "cell_type": "markdown",
   "id": "5302a5d7",
   "metadata": {},
   "source": [
    "##  LogisticRegression"
   ]
  },
  {
   "cell_type": "code",
   "execution_count": 117,
   "id": "0aa7e0ac",
   "metadata": {},
   "outputs": [
    {
     "name": "stdout",
     "output_type": "stream",
     "text": [
      "best accuracy score  = 0.812125\n",
      "best params = {'penalty': 'l1', 'solver': 'liblinear'}\n"
     ]
    }
   ],
   "source": [
    "params = {'penalty':['l1','l2'],'solver':['lbfgs','liblinear','newton-cg','newton-cholesky']}\n",
    "\n",
    "from sklearn.linear_model import LogisticRegression\n",
    "logistic = LogisticRegression()\n",
    "grid(params,logistic)"
   ]
  },
  {
   "cell_type": "code",
   "execution_count": 118,
   "id": "619e423a",
   "metadata": {},
   "outputs": [
    {
     "name": "stdout",
     "output_type": "stream",
     "text": [
      "[\"LogisticRegression(penalty='l1', solver='liblinear') have 0.8265 accuracy , 0.4569640062597809 f1 score , 0.6212765957446809 recall 0.3613861386138614 precision \"]\n"
     ]
    }
   ],
   "source": [
    "logistic = LogisticRegression(penalty='l1',solver='liblinear')\n",
    "logistic.fit(x_train,y_train)\n",
    "logistic_pred = neighbors.predict(x_test)\n",
    "metrics(logistic,logistic_pred,y_test)"
   ]
  },
  {
   "cell_type": "code",
   "execution_count": null,
   "id": "9f489f0a",
   "metadata": {},
   "outputs": [],
   "source": []
  },
  {
   "cell_type": "code",
   "execution_count": null,
   "id": "f1ceba63",
   "metadata": {},
   "outputs": [],
   "source": []
  },
  {
   "cell_type": "markdown",
   "id": "40be5d16",
   "metadata": {},
   "source": [
    "## naive_bayes\n"
   ]
  },
  {
   "cell_type": "code",
   "execution_count": 119,
   "id": "f17c341e",
   "metadata": {},
   "outputs": [
    {
     "name": "stdout",
     "output_type": "stream",
     "text": [
      "['GaussianNB() have 0.8315 accuracy , 0.4199655765920826 f1 score , 0.6892655367231638 recall 0.30198019801980197 precision ']\n"
     ]
    }
   ],
   "source": [
    "\n",
    "from sklearn.naive_bayes import GaussianNB\n",
    "naive = GaussianNB()\n",
    "naive.fit(x_train,y_train)\n",
    "naive_preds = naive.predict(x_test)\n",
    "metrics(naive,naive_preds,y_test)"
   ]
  },
  {
   "cell_type": "code",
   "execution_count": null,
   "id": "efc79e7d",
   "metadata": {},
   "outputs": [],
   "source": []
  },
  {
   "cell_type": "code",
   "execution_count": null,
   "id": "20fbeda2",
   "metadata": {},
   "outputs": [],
   "source": []
  },
  {
   "cell_type": "markdown",
   "id": "ee27e43b",
   "metadata": {},
   "source": [
    "## AdaBoostClassifier"
   ]
  },
  {
   "cell_type": "code",
   "execution_count": 120,
   "id": "463f4b9a",
   "metadata": {},
   "outputs": [
    {
     "name": "stdout",
     "output_type": "stream",
     "text": [
      "best accuracy score  = 0.85175\n",
      "best params = {'learning_rate': 1.0, 'n_estimators': 50}\n"
     ]
    }
   ],
   "source": [
    "params ={'n_estimators':[50,75,90],'learning_rate':[1.0,0.1,0.01]}\n",
    "from sklearn.ensemble import AdaBoostClassifier\n",
    "adaboost = AdaBoostClassifier()\n",
    "grid(params,adaboost)\n"
   ]
  },
  {
   "cell_type": "code",
   "execution_count": 121,
   "id": "7dd1f8c4",
   "metadata": {},
   "outputs": [
    {
     "name": "stdout",
     "output_type": "stream",
     "text": [
      "['AdaBoostClassifier() have 0.8625 accuracy , 0.6020260492040521 f1 score , 0.7247386759581882 recall 0.5148514851485149 precision ']\n"
     ]
    }
   ],
   "source": [
    "adaboost = AdaBoostClassifier(learning_rate=1.0,n_estimators=50)\n",
    "adaboost.fit(x_train,y_train)\n",
    "adaboost_preds = adaboost.predict(x_test)\n",
    "metrics(adaboost,adaboost_preds,y_test)"
   ]
  },
  {
   "cell_type": "code",
   "execution_count": null,
   "id": "6232dba0",
   "metadata": {},
   "outputs": [],
   "source": []
  },
  {
   "cell_type": "markdown",
   "id": "5c6e43c4",
   "metadata": {},
   "source": [
    "## GradientBoostingClassifier"
   ]
  },
  {
   "cell_type": "code",
   "execution_count": 122,
   "id": "c040d07e",
   "metadata": {},
   "outputs": [
    {
     "name": "stdout",
     "output_type": "stream",
     "text": [
      "best accuracy score  = 0.863\n",
      "best params = {'learning_rate': 0.1, 'loss': 'log_loss', 'min_samples_split': 2, 'n_estimators': 100}\n"
     ]
    }
   ],
   "source": [
    "params = {'loss':['log_loss','exponential'],'learning_rate':[1.0,0.1,0.01],'n_estimators':[100,120,150],'min_samples_split':[2,3,1,4]}\n",
    "\n",
    "from sklearn.ensemble import GradientBoostingClassifier\n",
    "gradientboost = GradientBoostingClassifier()\n",
    "grid(params,gradientboost)\n"
   ]
  },
  {
   "cell_type": "code",
   "execution_count": 123,
   "id": "138a0363",
   "metadata": {},
   "outputs": [
    {
     "name": "stdout",
     "output_type": "stream",
     "text": [
      "['GradientBoostingClassifier(min_samples_split=3, n_estimators=150) have 0.868 accuracy , 0.6071428571428572 f1 score , 0.7611940298507462 recall 0.504950495049505 precision ']\n"
     ]
    }
   ],
   "source": [
    "gradientboost = GradientBoostingClassifier(learning_rate=0.1,n_estimators=150,min_samples_split=3,loss='log_loss')\n",
    "gradientboost.fit(x_train,y_train)\n",
    "gradientboost_preds = gradientboost.predict(x_test)\n",
    "metrics(gradientboost,gradientboost_preds,y_test)"
   ]
  },
  {
   "cell_type": "code",
   "execution_count": null,
   "id": "58455972",
   "metadata": {},
   "outputs": [],
   "source": []
  },
  {
   "cell_type": "markdown",
   "id": "fb90a8f9",
   "metadata": {},
   "source": [
    "## artificial neural network"
   ]
  },
  {
   "cell_type": "code",
   "execution_count": 124,
   "id": "bf40f4d3",
   "metadata": {},
   "outputs": [
    {
     "name": "stdout",
     "output_type": "stream",
     "text": [
      "WARNING:tensorflow:From C:\\Users\\mplan\\anaconda3\\Lib\\site-packages\\keras\\src\\losses.py:2976: The name tf.losses.sparse_softmax_cross_entropy is deprecated. Please use tf.compat.v1.losses.sparse_softmax_cross_entropy instead.\n",
      "\n"
     ]
    }
   ],
   "source": [
    "import tensorflow as tf\n",
    "from tensorflow.keras.models import Sequential\n",
    "from tensorflow.keras.layers import *\n"
   ]
  },
  {
   "cell_type": "code",
   "execution_count": 125,
   "id": "5d329a3c",
   "metadata": {},
   "outputs": [
    {
     "name": "stdout",
     "output_type": "stream",
     "text": [
      "WARNING:tensorflow:From C:\\Users\\mplan\\anaconda3\\Lib\\site-packages\\keras\\src\\backend.py:873: The name tf.get_default_graph is deprecated. Please use tf.compat.v1.get_default_graph instead.\n",
      "\n",
      "Model: \"sequential\"\n",
      "_________________________________________________________________\n",
      " Layer (type)                Output Shape              Param #   \n",
      "=================================================================\n",
      " dense (Dense)               (None, 100)               1100      \n",
      "                                                                 \n",
      " batch_normalization (Batch  (None, 100)               400       \n",
      " Normalization)                                                  \n",
      "                                                                 \n",
      " dense_1 (Dense)             (None, 100)               10100     \n",
      "                                                                 \n",
      " batch_normalization_1 (Bat  (None, 100)               400       \n",
      " chNormalization)                                                \n",
      "                                                                 \n",
      " dense_2 (Dense)             (None, 50)                5050      \n",
      "                                                                 \n",
      " batch_normalization_2 (Bat  (None, 50)                200       \n",
      " chNormalization)                                                \n",
      "                                                                 \n",
      " dropout (Dropout)           (None, 50)                0         \n",
      "                                                                 \n",
      " dense_3 (Dense)             (None, 50)                2550      \n",
      "                                                                 \n",
      " batch_normalization_3 (Bat  (None, 50)                200       \n",
      " chNormalization)                                                \n",
      "                                                                 \n",
      " dropout_1 (Dropout)         (None, 50)                0         \n",
      "                                                                 \n",
      " dense_4 (Dense)             (None, 1)                 51        \n",
      "                                                                 \n",
      "=================================================================\n",
      "Total params: 20051 (78.32 KB)\n",
      "Trainable params: 19451 (75.98 KB)\n",
      "Non-trainable params: 600 (2.34 KB)\n",
      "_________________________________________________________________\n"
     ]
    }
   ],
   "source": [
    "model = Sequential()\n",
    "model.add(Input(10,))\n",
    "model.add(Dense(100,'relu'))\n",
    "model.add(BatchNormalization())\n",
    "model.add(Dense(100,'relu',kernel_regularizer=('l1_l2')))\n",
    "model.add(BatchNormalization())\n",
    "model.add(Dense(50,'relu',kernel_regularizer=('l1_l2')))\n",
    "model.add(BatchNormalization())\n",
    "model.add(Dropout(0.2))\n",
    "model.add(Dense(50,'relu',kernel_regularizer=('l1_l2')))\n",
    "model.add(BatchNormalization())\n",
    "model.add(Dropout(0.2))\n",
    "model.add(Dense(1,'sigmoid'))\n",
    "          \n",
    "model.summary()"
   ]
  },
  {
   "cell_type": "code",
   "execution_count": 126,
   "id": "dfc0c4b1",
   "metadata": {},
   "outputs": [
    {
     "name": "stdout",
     "output_type": "stream",
     "text": [
      "WARNING:tensorflow:From C:\\Users\\mplan\\anaconda3\\Lib\\site-packages\\keras\\src\\optimizers\\__init__.py:309: The name tf.train.Optimizer is deprecated. Please use tf.compat.v1.train.Optimizer instead.\n",
      "\n"
     ]
    }
   ],
   "source": [
    "model.compile(optimizer='adam',loss='binary_crossentropy',metrics=['accuracy'])"
   ]
  },
  {
   "cell_type": "code",
   "execution_count": 127,
   "id": "7301253e",
   "metadata": {},
   "outputs": [
    {
     "name": "stdout",
     "output_type": "stream",
     "text": [
      "Epoch 1/50\n",
      "WARNING:tensorflow:From C:\\Users\\mplan\\anaconda3\\Lib\\site-packages\\keras\\src\\utils\\tf_utils.py:492: The name tf.ragged.RaggedTensorValue is deprecated. Please use tf.compat.v1.ragged.RaggedTensorValue instead.\n",
      "\n",
      "WARNING:tensorflow:From C:\\Users\\mplan\\anaconda3\\Lib\\site-packages\\keras\\src\\engine\\base_layer_utils.py:384: The name tf.executing_eagerly_outside_functions is deprecated. Please use tf.compat.v1.executing_eagerly_outside_functions instead.\n",
      "\n",
      "250/250 [==============================] - 7s 7ms/step - loss: 10.3424 - accuracy: 0.7370\n",
      "Epoch 2/50\n",
      "250/250 [==============================] - 2s 9ms/step - loss: 2.0302 - accuracy: 0.8092\n",
      "Epoch 3/50\n",
      "250/250 [==============================] - 1s 6ms/step - loss: 0.9649 - accuracy: 0.8112\n",
      "Epoch 4/50\n",
      "250/250 [==============================] - 2s 8ms/step - loss: 0.6973 - accuracy: 0.8186\n",
      "Epoch 5/50\n",
      "250/250 [==============================] - 2s 7ms/step - loss: 0.5926 - accuracy: 0.8234\n",
      "Epoch 6/50\n",
      "250/250 [==============================] - 1s 5ms/step - loss: 0.5103 - accuracy: 0.8331\n",
      "Epoch 7/50\n",
      "250/250 [==============================] - 1s 5ms/step - loss: 0.4916 - accuracy: 0.8311\n",
      "Epoch 8/50\n",
      "250/250 [==============================] - 2s 7ms/step - loss: 0.4756 - accuracy: 0.8396\n",
      "Epoch 9/50\n",
      "250/250 [==============================] - 1s 5ms/step - loss: 0.4564 - accuracy: 0.8374\n",
      "Epoch 10/50\n",
      "250/250 [==============================] - 1s 6ms/step - loss: 0.4420 - accuracy: 0.8419\n",
      "Epoch 11/50\n",
      "250/250 [==============================] - 2s 6ms/step - loss: 0.4314 - accuracy: 0.8429\n",
      "Epoch 12/50\n",
      "250/250 [==============================] - 2s 8ms/step - loss: 0.4296 - accuracy: 0.8416\n",
      "Epoch 13/50\n",
      "250/250 [==============================] - 2s 8ms/step - loss: 0.4285 - accuracy: 0.8422\n",
      "Epoch 14/50\n",
      "250/250 [==============================] - 2s 8ms/step - loss: 0.4197 - accuracy: 0.8472\n",
      "Epoch 15/50\n",
      "250/250 [==============================] - 2s 6ms/step - loss: 0.4170 - accuracy: 0.8441\n",
      "Epoch 16/50\n",
      "250/250 [==============================] - 2s 7ms/step - loss: 0.4167 - accuracy: 0.8465\n",
      "Epoch 17/50\n",
      "250/250 [==============================] - 1s 6ms/step - loss: 0.4129 - accuracy: 0.8505\n",
      "Epoch 18/50\n",
      "250/250 [==============================] - 2s 6ms/step - loss: 0.4098 - accuracy: 0.8512\n",
      "Epoch 19/50\n",
      "250/250 [==============================] - 1s 6ms/step - loss: 0.4175 - accuracy: 0.8475\n",
      "Epoch 20/50\n",
      "250/250 [==============================] - 1s 5ms/step - loss: 0.4094 - accuracy: 0.8485\n",
      "Epoch 21/50\n",
      "250/250 [==============================] - 2s 8ms/step - loss: 0.4079 - accuracy: 0.8485\n",
      "Epoch 22/50\n",
      "250/250 [==============================] - 2s 7ms/step - loss: 0.4005 - accuracy: 0.8505\n",
      "Epoch 23/50\n",
      "250/250 [==============================] - 1s 5ms/step - loss: 0.4045 - accuracy: 0.8516\n",
      "Epoch 24/50\n",
      "250/250 [==============================] - 1s 5ms/step - loss: 0.4012 - accuracy: 0.8497\n",
      "Epoch 25/50\n",
      "250/250 [==============================] - 1s 6ms/step - loss: 0.4003 - accuracy: 0.8494\n",
      "Epoch 26/50\n",
      "250/250 [==============================] - 2s 7ms/step - loss: 0.3948 - accuracy: 0.8531\n",
      "Epoch 27/50\n",
      "250/250 [==============================] - 2s 6ms/step - loss: 0.3947 - accuracy: 0.8515\n",
      "Epoch 28/50\n",
      "250/250 [==============================] - 1s 5ms/step - loss: 0.3922 - accuracy: 0.8556\n",
      "Epoch 29/50\n",
      "250/250 [==============================] - 2s 7ms/step - loss: 0.3994 - accuracy: 0.8555\n",
      "Epoch 30/50\n",
      "250/250 [==============================] - 2s 8ms/step - loss: 0.4015 - accuracy: 0.8475\n",
      "Epoch 31/50\n",
      "250/250 [==============================] - 2s 6ms/step - loss: 0.4003 - accuracy: 0.8470\n",
      "Epoch 32/50\n",
      "250/250 [==============================] - 1s 6ms/step - loss: 0.3965 - accuracy: 0.8500\n",
      "Epoch 33/50\n",
      "250/250 [==============================] - 1s 5ms/step - loss: 0.3921 - accuracy: 0.8534\n",
      "Epoch 34/50\n",
      "250/250 [==============================] - 2s 8ms/step - loss: 0.3878 - accuracy: 0.8533\n",
      "Epoch 35/50\n",
      "250/250 [==============================] - 1s 6ms/step - loss: 0.3918 - accuracy: 0.8536\n",
      "Epoch 36/50\n",
      "250/250 [==============================] - 2s 10ms/step - loss: 0.3932 - accuracy: 0.8529\n",
      "Epoch 37/50\n",
      "250/250 [==============================] - 1s 5ms/step - loss: 0.3938 - accuracy: 0.8509\n",
      "Epoch 38/50\n",
      "250/250 [==============================] - 2s 7ms/step - loss: 0.3844 - accuracy: 0.8539\n",
      "Epoch 39/50\n",
      "250/250 [==============================] - 1s 6ms/step - loss: 0.3858 - accuracy: 0.8553\n",
      "Epoch 40/50\n",
      "250/250 [==============================] - 2s 7ms/step - loss: 0.3970 - accuracy: 0.8570\n",
      "Epoch 41/50\n",
      "250/250 [==============================] - 2s 8ms/step - loss: 0.3932 - accuracy: 0.8533\n",
      "Epoch 42/50\n",
      "250/250 [==============================] - 2s 6ms/step - loss: 0.3906 - accuracy: 0.8541\n",
      "Epoch 43/50\n",
      "250/250 [==============================] - 2s 6ms/step - loss: 0.3883 - accuracy: 0.8525\n",
      "Epoch 44/50\n",
      "250/250 [==============================] - 1s 3ms/step - loss: 0.3904 - accuracy: 0.8514\n",
      "Epoch 45/50\n",
      "250/250 [==============================] - 1s 3ms/step - loss: 0.3832 - accuracy: 0.8590\n",
      "Epoch 46/50\n",
      "250/250 [==============================] - 1s 3ms/step - loss: 0.3908 - accuracy: 0.8551\n",
      "Epoch 47/50\n",
      "250/250 [==============================] - 1s 4ms/step - loss: 0.3861 - accuracy: 0.8589\n",
      "Epoch 48/50\n",
      "250/250 [==============================] - 2s 8ms/step - loss: 0.3893 - accuracy: 0.8570\n",
      "Epoch 49/50\n",
      "250/250 [==============================] - 1s 4ms/step - loss: 0.3890 - accuracy: 0.8537\n",
      "Epoch 50/50\n",
      "250/250 [==============================] - 1s 4ms/step - loss: 0.3864 - accuracy: 0.8537\n"
     ]
    },
    {
     "data": {
      "text/plain": [
       "<keras.src.callbacks.History at 0x23133383950>"
      ]
     },
     "execution_count": 127,
     "metadata": {},
     "output_type": "execute_result"
    }
   ],
   "source": [
    "model.fit(x_train,y_train,epochs=50,batch_size=32)"
   ]
  },
  {
   "cell_type": "code",
   "execution_count": 128,
   "id": "b5a984d2",
   "metadata": {},
   "outputs": [
    {
     "name": "stdout",
     "output_type": "stream",
     "text": [
      "63/63 [==============================] - 0s 2ms/step\n"
     ]
    }
   ],
   "source": [
    "ann_preds = model.predict(x_test)"
   ]
  },
  {
   "cell_type": "code",
   "execution_count": 129,
   "id": "49e6ce2c",
   "metadata": {},
   "outputs": [],
   "source": [
    "ann_preds\n",
    "\n",
    "y_preds = []\n",
    "for i in range(len(ann_preds)):\n",
    "    if ann_preds[i] > 0.5:\n",
    "        y_preds.append(1)\n",
    "    else:\n",
    "        y_preds.append(0)\n",
    "        "
   ]
  },
  {
   "cell_type": "code",
   "execution_count": null,
   "id": "eaffa3c7",
   "metadata": {},
   "outputs": [],
   "source": []
  },
  {
   "cell_type": "code",
   "execution_count": 130,
   "id": "5e2955ab",
   "metadata": {},
   "outputs": [
    {
     "name": "stdout",
     "output_type": "stream",
     "text": [
      "['<keras.src.engine.sequential.Sequential object at 0x0000023129476210> have 0.8605 accuracy , 0.5903083700440529 f1 score , 0.7256317689530686 recall 0.4975247524752475 precision ']\n"
     ]
    }
   ],
   "source": [
    "metrics(model,y_preds,y_test)"
   ]
  },
  {
   "cell_type": "code",
   "execution_count": null,
   "id": "8c292146",
   "metadata": {},
   "outputs": [],
   "source": []
  },
  {
   "cell_type": "code",
   "execution_count": null,
   "id": "6589dd61",
   "metadata": {},
   "outputs": [],
   "source": []
  },
  {
   "cell_type": "code",
   "execution_count": null,
   "id": "43de0697",
   "metadata": {},
   "outputs": [],
   "source": []
  },
  {
   "cell_type": "markdown",
   "id": "2b4d6905",
   "metadata": {},
   "source": [
    "## compare the models and pick the best one "
   ]
  },
  {
   "cell_type": "code",
   "execution_count": 131,
   "id": "c9594903",
   "metadata": {},
   "outputs": [],
   "source": [
    "mm = []\n",
    "for i in hist_df:\n",
    "    for j in i:\n",
    "        aa = []\n",
    "        for k in j :\n",
    "            aa.append(k)\n",
    "    mm.append(aa)"
   ]
  },
  {
   "cell_type": "code",
   "execution_count": 132,
   "id": "2407a856",
   "metadata": {},
   "outputs": [],
   "source": [
    "models = pd.DataFrame(mm,columns=['model','accuracy','f1_score','recall','precision'])\n",
    "models = models.sort_values('accuracy',ascending=False)"
   ]
  },
  {
   "cell_type": "code",
   "execution_count": 133,
   "id": "84ae99fe",
   "metadata": {},
   "outputs": [
    {
     "data": {
      "text/html": [
       "<div>\n",
       "<style scoped>\n",
       "    .dataframe tbody tr th:only-of-type {\n",
       "        vertical-align: middle;\n",
       "    }\n",
       "\n",
       "    .dataframe tbody tr th {\n",
       "        vertical-align: top;\n",
       "    }\n",
       "\n",
       "    .dataframe thead th {\n",
       "        text-align: right;\n",
       "    }\n",
       "</style>\n",
       "<table border=\"1\" class=\"dataframe\">\n",
       "  <thead>\n",
       "    <tr style=\"text-align: right;\">\n",
       "      <th></th>\n",
       "      <th>model</th>\n",
       "      <th>accuracy</th>\n",
       "      <th>f1_score</th>\n",
       "      <th>recall</th>\n",
       "      <th>precision</th>\n",
       "    </tr>\n",
       "  </thead>\n",
       "  <tbody>\n",
       "    <tr>\n",
       "      <th>6</th>\n",
       "      <td>([DecisionTreeRegressor(criterion='friedman_ms...</td>\n",
       "      <td>0.868</td>\n",
       "      <td>0.607</td>\n",
       "      <td>0.761</td>\n",
       "      <td>0.505</td>\n",
       "    </tr>\n",
       "    <tr>\n",
       "      <th>5</th>\n",
       "      <td>(DecisionTreeClassifier(max_depth=1, random_st...</td>\n",
       "      <td>0.863</td>\n",
       "      <td>0.602</td>\n",
       "      <td>0.725</td>\n",
       "      <td>0.515</td>\n",
       "    </tr>\n",
       "    <tr>\n",
       "      <th>7</th>\n",
       "      <td>&lt;keras.src.engine.sequential.Sequential object...</td>\n",
       "      <td>0.861</td>\n",
       "      <td>0.590</td>\n",
       "      <td>0.726</td>\n",
       "      <td>0.498</td>\n",
       "    </tr>\n",
       "    <tr>\n",
       "      <th>4</th>\n",
       "      <td>GaussianNB()</td>\n",
       "      <td>0.832</td>\n",
       "      <td>0.420</td>\n",
       "      <td>0.689</td>\n",
       "      <td>0.302</td>\n",
       "    </tr>\n",
       "    <tr>\n",
       "      <th>1</th>\n",
       "      <td>KNeighborsClassifier(n_neighbors=7)</td>\n",
       "      <td>0.827</td>\n",
       "      <td>0.457</td>\n",
       "      <td>0.621</td>\n",
       "      <td>0.361</td>\n",
       "    </tr>\n",
       "    <tr>\n",
       "      <th>2</th>\n",
       "      <td>(DecisionTreeClassifier(max_features='sqrt', r...</td>\n",
       "      <td>0.827</td>\n",
       "      <td>0.457</td>\n",
       "      <td>0.621</td>\n",
       "      <td>0.361</td>\n",
       "    </tr>\n",
       "    <tr>\n",
       "      <th>3</th>\n",
       "      <td>LogisticRegression(penalty='l1', solver='libli...</td>\n",
       "      <td>0.827</td>\n",
       "      <td>0.457</td>\n",
       "      <td>0.621</td>\n",
       "      <td>0.361</td>\n",
       "    </tr>\n",
       "    <tr>\n",
       "      <th>0</th>\n",
       "      <td>DecisionTreeClassifier(criterion='log_loss', m...</td>\n",
       "      <td>0.808</td>\n",
       "      <td>0.486</td>\n",
       "      <td>0.531</td>\n",
       "      <td>0.448</td>\n",
       "    </tr>\n",
       "  </tbody>\n",
       "</table>\n",
       "</div>"
      ],
      "text/plain": [
       "                                               model  accuracy  f1_score  \\\n",
       "6  ([DecisionTreeRegressor(criterion='friedman_ms...     0.868     0.607   \n",
       "5  (DecisionTreeClassifier(max_depth=1, random_st...     0.863     0.602   \n",
       "7  <keras.src.engine.sequential.Sequential object...     0.861     0.590   \n",
       "4                                       GaussianNB()     0.832     0.420   \n",
       "1                KNeighborsClassifier(n_neighbors=7)     0.827     0.457   \n",
       "2  (DecisionTreeClassifier(max_features='sqrt', r...     0.827     0.457   \n",
       "3  LogisticRegression(penalty='l1', solver='libli...     0.827     0.457   \n",
       "0  DecisionTreeClassifier(criterion='log_loss', m...     0.808     0.486   \n",
       "\n",
       "   recall  precision  \n",
       "6   0.761      0.505  \n",
       "5   0.725      0.515  \n",
       "7   0.726      0.498  \n",
       "4   0.689      0.302  \n",
       "1   0.621      0.361  \n",
       "2   0.621      0.361  \n",
       "3   0.621      0.361  \n",
       "0   0.531      0.448  "
      ]
     },
     "execution_count": 133,
     "metadata": {},
     "output_type": "execute_result"
    }
   ],
   "source": [
    "models"
   ]
  },
  {
   "cell_type": "code",
   "execution_count": 138,
   "id": "2dbce6dc",
   "metadata": {},
   "outputs": [
    {
     "data": {
      "text/html": [
       "<style>#sk-container-id-3 {color: black;}#sk-container-id-3 pre{padding: 0;}#sk-container-id-3 div.sk-toggleable {background-color: white;}#sk-container-id-3 label.sk-toggleable__label {cursor: pointer;display: block;width: 100%;margin-bottom: 0;padding: 0.3em;box-sizing: border-box;text-align: center;}#sk-container-id-3 label.sk-toggleable__label-arrow:before {content: \"▸\";float: left;margin-right: 0.25em;color: #696969;}#sk-container-id-3 label.sk-toggleable__label-arrow:hover:before {color: black;}#sk-container-id-3 div.sk-estimator:hover label.sk-toggleable__label-arrow:before {color: black;}#sk-container-id-3 div.sk-toggleable__content {max-height: 0;max-width: 0;overflow: hidden;text-align: left;background-color: #f0f8ff;}#sk-container-id-3 div.sk-toggleable__content pre {margin: 0.2em;color: black;border-radius: 0.25em;background-color: #f0f8ff;}#sk-container-id-3 input.sk-toggleable__control:checked~div.sk-toggleable__content {max-height: 200px;max-width: 100%;overflow: auto;}#sk-container-id-3 input.sk-toggleable__control:checked~label.sk-toggleable__label-arrow:before {content: \"▾\";}#sk-container-id-3 div.sk-estimator input.sk-toggleable__control:checked~label.sk-toggleable__label {background-color: #d4ebff;}#sk-container-id-3 div.sk-label input.sk-toggleable__control:checked~label.sk-toggleable__label {background-color: #d4ebff;}#sk-container-id-3 input.sk-hidden--visually {border: 0;clip: rect(1px 1px 1px 1px);clip: rect(1px, 1px, 1px, 1px);height: 1px;margin: -1px;overflow: hidden;padding: 0;position: absolute;width: 1px;}#sk-container-id-3 div.sk-estimator {font-family: monospace;background-color: #f0f8ff;border: 1px dotted black;border-radius: 0.25em;box-sizing: border-box;margin-bottom: 0.5em;}#sk-container-id-3 div.sk-estimator:hover {background-color: #d4ebff;}#sk-container-id-3 div.sk-parallel-item::after {content: \"\";width: 100%;border-bottom: 1px solid gray;flex-grow: 1;}#sk-container-id-3 div.sk-label:hover label.sk-toggleable__label {background-color: #d4ebff;}#sk-container-id-3 div.sk-serial::before {content: \"\";position: absolute;border-left: 1px solid gray;box-sizing: border-box;top: 0;bottom: 0;left: 50%;z-index: 0;}#sk-container-id-3 div.sk-serial {display: flex;flex-direction: column;align-items: center;background-color: white;padding-right: 0.2em;padding-left: 0.2em;position: relative;}#sk-container-id-3 div.sk-item {position: relative;z-index: 1;}#sk-container-id-3 div.sk-parallel {display: flex;align-items: stretch;justify-content: center;background-color: white;position: relative;}#sk-container-id-3 div.sk-item::before, #sk-container-id-3 div.sk-parallel-item::before {content: \"\";position: absolute;border-left: 1px solid gray;box-sizing: border-box;top: 0;bottom: 0;left: 50%;z-index: -1;}#sk-container-id-3 div.sk-parallel-item {display: flex;flex-direction: column;z-index: 1;position: relative;background-color: white;}#sk-container-id-3 div.sk-parallel-item:first-child::after {align-self: flex-end;width: 50%;}#sk-container-id-3 div.sk-parallel-item:last-child::after {align-self: flex-start;width: 50%;}#sk-container-id-3 div.sk-parallel-item:only-child::after {width: 0;}#sk-container-id-3 div.sk-dashed-wrapped {border: 1px dashed gray;margin: 0 0.4em 0.5em 0.4em;box-sizing: border-box;padding-bottom: 0.4em;background-color: white;}#sk-container-id-3 div.sk-label label {font-family: monospace;font-weight: bold;display: inline-block;line-height: 1.2em;}#sk-container-id-3 div.sk-label-container {text-align: center;}#sk-container-id-3 div.sk-container {/* jupyter's `normalize.less` sets `[hidden] { display: none; }` but bootstrap.min.css set `[hidden] { display: none !important; }` so we also need the `!important` here to be able to override the default hidden behavior on the sphinx rendered scikit-learn.org. See: https://github.com/scikit-learn/scikit-learn/issues/21755 */display: inline-block !important;position: relative;}#sk-container-id-3 div.sk-text-repr-fallback {display: none;}</style><div id=\"sk-container-id-3\" class=\"sk-top-container\"><div class=\"sk-text-repr-fallback\"><pre>GradientBoostingClassifier(min_samples_split=3, n_estimators=150)</pre><b>In a Jupyter environment, please rerun this cell to show the HTML representation or trust the notebook. <br />On GitHub, the HTML representation is unable to render, please try loading this page with nbviewer.org.</b></div><div class=\"sk-container\" hidden><div class=\"sk-item\"><div class=\"sk-estimator sk-toggleable\"><input class=\"sk-toggleable__control sk-hidden--visually\" id=\"sk-estimator-id-3\" type=\"checkbox\" checked><label for=\"sk-estimator-id-3\" class=\"sk-toggleable__label sk-toggleable__label-arrow\">GradientBoostingClassifier</label><div class=\"sk-toggleable__content\"><pre>GradientBoostingClassifier(min_samples_split=3, n_estimators=150)</pre></div></div></div></div></div>"
      ],
      "text/plain": [
       "GradientBoostingClassifier(min_samples_split=3, n_estimators=150)"
      ]
     },
     "execution_count": 138,
     "metadata": {},
     "output_type": "execute_result"
    }
   ],
   "source": [
    "\n",
    "models['model'][6]\n"
   ]
  },
  {
   "cell_type": "code",
   "execution_count": null,
   "id": "97030727",
   "metadata": {},
   "outputs": [],
   "source": []
  },
  {
   "cell_type": "code",
   "execution_count": null,
   "id": "7f39d3d5",
   "metadata": {},
   "outputs": [],
   "source": []
  },
  {
   "cell_type": "markdown",
   "id": "29f38ab4",
   "metadata": {},
   "source": [
    "## lets choose the best model "
   ]
  },
  {
   "cell_type": "code",
   "execution_count": 134,
   "id": "758f9c0b",
   "metadata": {},
   "outputs": [],
   "source": [
    "y_pred = gradientboost.predict(x_test)"
   ]
  },
  {
   "cell_type": "code",
   "execution_count": 135,
   "id": "8ff691f1",
   "metadata": {},
   "outputs": [
    {
     "data": {
      "image/png": "[encoded data removed]",
      "text/plain": [
       "<Figure size 500x500 with 2 Axes>"
      ]
     },
     "metadata": {},
     "output_type": "display_data"
    }
   ],
   "source": [
    "\n",
    "\n",
    "from sklearn.metrics import confusion_matrix as cm\n",
    "matrix = cm(y_pred,y_test)\n",
    "plt.figure(figsize=(5,5))\n",
    "sns.heatmap(matrix,annot=True,fmt='0')\n",
    "plt.title('confusion matrix of gradient boost')\n",
    "plt.show()"
   ]
  },
  {
   "cell_type": "markdown",
   "id": "545efde5",
   "metadata": {},
   "source": [
    "### we have an accuracy of 86.8% \n",
    "### our results are good \n",
    "### we can keep the model \n",
    "### lets save it to an external file for later use "
   ]
  },
  {
   "cell_type": "code",
   "execution_count": null,
   "id": "e0a659b7",
   "metadata": {},
   "outputs": [],
   "source": []
  },
  {
   "cell_type": "code",
   "execution_count": 136,
   "id": "13175c34",
   "metadata": {},
   "outputs": [
    {
     "name": "stdout",
     "output_type": "stream",
     "text": [
      "Saved model to disk\n"
     ]
    }
   ],
   "source": [
    "model_json = model.to_json()\n",
    "with open(\"gradientboost.json\", \"w\") as json_file:\n",
    "    json_file.write(model_json)\n",
    "# serialize weights to HDF5\n",
    "model.save_weights(\"gradientboost.h5\")\n",
    "print(\"Saved model to disk\")"
   ]
  },
  {
   "cell_type": "code",
   "execution_count": null,
   "id": "628645bf",
   "metadata": {},
   "outputs": [],
   "source": []
  }
 ],
 "metadata": {
  "kernelspec": {
   "display_name": "Python 3 (ipykernel)",
   "language": "python",
   "name": "python3"
  },
  "language_info": {
   "codemirror_mode": {
    "name": "ipython",
    "version": 3
   },
   "file_extension": ".py",
   "mimetype": "text/x-python",
   "name": "python",
   "nbconvert_exporter": "python",
   "pygments_lexer": "ipython3",
   "version": "3.11.5"
  }
 },
 "nbformat": 4,
 "nbformat_minor": 5
}
